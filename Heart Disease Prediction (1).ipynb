{
 "cells": [
  {
   "cell_type": "markdown",
   "id": "e86b247c",
   "metadata": {},
   "source": [
    "# DATA AQUISITION"
   ]
  },
  {
   "cell_type": "code",
   "execution_count": 13,
   "id": "9d32c609",
   "metadata": {},
   "outputs": [],
   "source": [
    "##import common modules for data analysis\n",
    "import pandas as pd\n",
    "import numpy as np\n",
    "import matplotlib.pyplot as plt\n",
    "import scipy as sc\n",
    "import sklearn as sk\n",
    "import seaborn as sns "
   ]
  },
  {
   "cell_type": "code",
   "execution_count": 14,
   "id": "3a63cddc",
   "metadata": {},
   "outputs": [],
   "source": [
    "df=pd.read_csv(\"heart_failure_clinical_records_dataset.csv\")"
   ]
  },
  {
   "cell_type": "markdown",
   "id": "b5024399",
   "metadata": {},
   "source": [
    "# 1.1 SCANNING THE DATA FRAME "
   ]
  },
  {
   "cell_type": "code",
   "execution_count": 15,
   "id": "405d5d74",
   "metadata": {},
   "outputs": [],
   "source": [
    "## to view the first 5 rows"
   ]
  },
  {
   "cell_type": "code",
   "execution_count": 16,
   "id": "60355634",
   "metadata": {},
   "outputs": [
    {
     "data": {
      "text/html": [
       "<div>\n",
       "<style scoped>\n",
       "    .dataframe tbody tr th:only-of-type {\n",
       "        vertical-align: middle;\n",
       "    }\n",
       "\n",
       "    .dataframe tbody tr th {\n",
       "        vertical-align: top;\n",
       "    }\n",
       "\n",
       "    .dataframe thead th {\n",
       "        text-align: right;\n",
       "    }\n",
       "</style>\n",
       "<table border=\"1\" class=\"dataframe\">\n",
       "  <thead>\n",
       "    <tr style=\"text-align: right;\">\n",
       "      <th></th>\n",
       "      <th>age</th>\n",
       "      <th>anaemia</th>\n",
       "      <th>creatinine_phosphokinase</th>\n",
       "      <th>diabetes</th>\n",
       "      <th>ejection_fraction</th>\n",
       "      <th>high_blood_pressure</th>\n",
       "      <th>platelets</th>\n",
       "      <th>serum_creatinine</th>\n",
       "      <th>serum_sodium</th>\n",
       "      <th>sex</th>\n",
       "      <th>smoking</th>\n",
       "      <th>time</th>\n",
       "      <th>DEATH_EVENT</th>\n",
       "    </tr>\n",
       "  </thead>\n",
       "  <tbody>\n",
       "    <tr>\n",
       "      <th>0</th>\n",
       "      <td>75.0</td>\n",
       "      <td>0</td>\n",
       "      <td>582</td>\n",
       "      <td>0</td>\n",
       "      <td>20</td>\n",
       "      <td>1</td>\n",
       "      <td>265000.00</td>\n",
       "      <td>1.9</td>\n",
       "      <td>130</td>\n",
       "      <td>1</td>\n",
       "      <td>0</td>\n",
       "      <td>4</td>\n",
       "      <td>1</td>\n",
       "    </tr>\n",
       "    <tr>\n",
       "      <th>1</th>\n",
       "      <td>55.0</td>\n",
       "      <td>0</td>\n",
       "      <td>7861</td>\n",
       "      <td>0</td>\n",
       "      <td>38</td>\n",
       "      <td>0</td>\n",
       "      <td>263358.03</td>\n",
       "      <td>1.1</td>\n",
       "      <td>136</td>\n",
       "      <td>1</td>\n",
       "      <td>0</td>\n",
       "      <td>6</td>\n",
       "      <td>1</td>\n",
       "    </tr>\n",
       "    <tr>\n",
       "      <th>2</th>\n",
       "      <td>65.0</td>\n",
       "      <td>0</td>\n",
       "      <td>146</td>\n",
       "      <td>0</td>\n",
       "      <td>20</td>\n",
       "      <td>0</td>\n",
       "      <td>162000.00</td>\n",
       "      <td>1.3</td>\n",
       "      <td>129</td>\n",
       "      <td>1</td>\n",
       "      <td>1</td>\n",
       "      <td>7</td>\n",
       "      <td>1</td>\n",
       "    </tr>\n",
       "    <tr>\n",
       "      <th>3</th>\n",
       "      <td>50.0</td>\n",
       "      <td>1</td>\n",
       "      <td>111</td>\n",
       "      <td>0</td>\n",
       "      <td>20</td>\n",
       "      <td>0</td>\n",
       "      <td>210000.00</td>\n",
       "      <td>1.9</td>\n",
       "      <td>137</td>\n",
       "      <td>1</td>\n",
       "      <td>0</td>\n",
       "      <td>7</td>\n",
       "      <td>1</td>\n",
       "    </tr>\n",
       "    <tr>\n",
       "      <th>4</th>\n",
       "      <td>65.0</td>\n",
       "      <td>1</td>\n",
       "      <td>160</td>\n",
       "      <td>1</td>\n",
       "      <td>20</td>\n",
       "      <td>0</td>\n",
       "      <td>327000.00</td>\n",
       "      <td>2.7</td>\n",
       "      <td>116</td>\n",
       "      <td>0</td>\n",
       "      <td>0</td>\n",
       "      <td>8</td>\n",
       "      <td>1</td>\n",
       "    </tr>\n",
       "  </tbody>\n",
       "</table>\n",
       "</div>"
      ],
      "text/plain": [
       "    age  anaemia  creatinine_phosphokinase  diabetes  ejection_fraction  \\\n",
       "0  75.0        0                       582         0                 20   \n",
       "1  55.0        0                      7861         0                 38   \n",
       "2  65.0        0                       146         0                 20   \n",
       "3  50.0        1                       111         0                 20   \n",
       "4  65.0        1                       160         1                 20   \n",
       "\n",
       "   high_blood_pressure  platelets  serum_creatinine  serum_sodium  sex  \\\n",
       "0                    1  265000.00               1.9           130    1   \n",
       "1                    0  263358.03               1.1           136    1   \n",
       "2                    0  162000.00               1.3           129    1   \n",
       "3                    0  210000.00               1.9           137    1   \n",
       "4                    0  327000.00               2.7           116    0   \n",
       "\n",
       "   smoking  time  DEATH_EVENT  \n",
       "0        0     4            1  \n",
       "1        0     6            1  \n",
       "2        1     7            1  \n",
       "3        0     7            1  \n",
       "4        0     8            1  "
      ]
     },
     "execution_count": 16,
     "metadata": {},
     "output_type": "execute_result"
    }
   ],
   "source": [
    "df.head()"
   ]
  },
  {
   "cell_type": "code",
   "execution_count": 17,
   "id": "0637e3c0",
   "metadata": {},
   "outputs": [
    {
     "name": "stdout",
     "output_type": "stream",
     "text": [
      "<class 'pandas.core.frame.DataFrame'>\n",
      "RangeIndex: 299 entries, 0 to 298\n",
      "Data columns (total 13 columns):\n",
      " #   Column                    Non-Null Count  Dtype  \n",
      "---  ------                    --------------  -----  \n",
      " 0   age                       299 non-null    float64\n",
      " 1   anaemia                   299 non-null    int64  \n",
      " 2   creatinine_phosphokinase  299 non-null    int64  \n",
      " 3   diabetes                  299 non-null    int64  \n",
      " 4   ejection_fraction         299 non-null    int64  \n",
      " 5   high_blood_pressure       299 non-null    int64  \n",
      " 6   platelets                 299 non-null    float64\n",
      " 7   serum_creatinine          299 non-null    float64\n",
      " 8   serum_sodium              299 non-null    int64  \n",
      " 9   sex                       299 non-null    int64  \n",
      " 10  smoking                   299 non-null    int64  \n",
      " 11  time                      299 non-null    int64  \n",
      " 12  DEATH_EVENT               299 non-null    int64  \n",
      "dtypes: float64(3), int64(10)\n",
      "memory usage: 30.5 KB\n"
     ]
    }
   ],
   "source": [
    "#to view info of the dataset\n",
    "df.info()"
   ]
  },
  {
   "cell_type": "code",
   "execution_count": 18,
   "id": "81faf62c",
   "metadata": {},
   "outputs": [
    {
     "data": {
      "text/plain": [
       "(299, 13)"
      ]
     },
     "execution_count": 18,
     "metadata": {},
     "output_type": "execute_result"
    }
   ],
   "source": [
    "# for dimensions of the dataset\n",
    "df.shape"
   ]
  },
  {
   "cell_type": "code",
   "execution_count": 19,
   "id": "d63dfd1a",
   "metadata": {},
   "outputs": [
    {
     "data": {
      "text/html": [
       "<div>\n",
       "<style scoped>\n",
       "    .dataframe tbody tr th:only-of-type {\n",
       "        vertical-align: middle;\n",
       "    }\n",
       "\n",
       "    .dataframe tbody tr th {\n",
       "        vertical-align: top;\n",
       "    }\n",
       "\n",
       "    .dataframe thead th {\n",
       "        text-align: right;\n",
       "    }\n",
       "</style>\n",
       "<table border=\"1\" class=\"dataframe\">\n",
       "  <thead>\n",
       "    <tr style=\"text-align: right;\">\n",
       "      <th></th>\n",
       "      <th>count</th>\n",
       "      <th>mean</th>\n",
       "      <th>std</th>\n",
       "      <th>min</th>\n",
       "      <th>25%</th>\n",
       "      <th>50%</th>\n",
       "      <th>75%</th>\n",
       "      <th>max</th>\n",
       "    </tr>\n",
       "  </thead>\n",
       "  <tbody>\n",
       "    <tr>\n",
       "      <th>age</th>\n",
       "      <td>299.000</td>\n",
       "      <td>60.834</td>\n",
       "      <td>11.895</td>\n",
       "      <td>40.000</td>\n",
       "      <td>51.000</td>\n",
       "      <td>60.000</td>\n",
       "      <td>70.000</td>\n",
       "      <td>95.000</td>\n",
       "    </tr>\n",
       "    <tr>\n",
       "      <th>anaemia</th>\n",
       "      <td>299.000</td>\n",
       "      <td>0.431</td>\n",
       "      <td>0.496</td>\n",
       "      <td>0.000</td>\n",
       "      <td>0.000</td>\n",
       "      <td>0.000</td>\n",
       "      <td>1.000</td>\n",
       "      <td>1.000</td>\n",
       "    </tr>\n",
       "    <tr>\n",
       "      <th>creatinine_phosphokinase</th>\n",
       "      <td>299.000</td>\n",
       "      <td>581.839</td>\n",
       "      <td>970.288</td>\n",
       "      <td>23.000</td>\n",
       "      <td>116.500</td>\n",
       "      <td>250.000</td>\n",
       "      <td>582.000</td>\n",
       "      <td>7861.000</td>\n",
       "    </tr>\n",
       "    <tr>\n",
       "      <th>diabetes</th>\n",
       "      <td>299.000</td>\n",
       "      <td>0.418</td>\n",
       "      <td>0.494</td>\n",
       "      <td>0.000</td>\n",
       "      <td>0.000</td>\n",
       "      <td>0.000</td>\n",
       "      <td>1.000</td>\n",
       "      <td>1.000</td>\n",
       "    </tr>\n",
       "    <tr>\n",
       "      <th>ejection_fraction</th>\n",
       "      <td>299.000</td>\n",
       "      <td>38.084</td>\n",
       "      <td>11.835</td>\n",
       "      <td>14.000</td>\n",
       "      <td>30.000</td>\n",
       "      <td>38.000</td>\n",
       "      <td>45.000</td>\n",
       "      <td>80.000</td>\n",
       "    </tr>\n",
       "    <tr>\n",
       "      <th>high_blood_pressure</th>\n",
       "      <td>299.000</td>\n",
       "      <td>0.351</td>\n",
       "      <td>0.478</td>\n",
       "      <td>0.000</td>\n",
       "      <td>0.000</td>\n",
       "      <td>0.000</td>\n",
       "      <td>1.000</td>\n",
       "      <td>1.000</td>\n",
       "    </tr>\n",
       "    <tr>\n",
       "      <th>platelets</th>\n",
       "      <td>299.000</td>\n",
       "      <td>263358.029</td>\n",
       "      <td>97804.237</td>\n",
       "      <td>25100.000</td>\n",
       "      <td>212500.000</td>\n",
       "      <td>262000.000</td>\n",
       "      <td>303500.000</td>\n",
       "      <td>850000.000</td>\n",
       "    </tr>\n",
       "    <tr>\n",
       "      <th>serum_creatinine</th>\n",
       "      <td>299.000</td>\n",
       "      <td>1.394</td>\n",
       "      <td>1.035</td>\n",
       "      <td>0.500</td>\n",
       "      <td>0.900</td>\n",
       "      <td>1.100</td>\n",
       "      <td>1.400</td>\n",
       "      <td>9.400</td>\n",
       "    </tr>\n",
       "    <tr>\n",
       "      <th>serum_sodium</th>\n",
       "      <td>299.000</td>\n",
       "      <td>136.625</td>\n",
       "      <td>4.412</td>\n",
       "      <td>113.000</td>\n",
       "      <td>134.000</td>\n",
       "      <td>137.000</td>\n",
       "      <td>140.000</td>\n",
       "      <td>148.000</td>\n",
       "    </tr>\n",
       "    <tr>\n",
       "      <th>sex</th>\n",
       "      <td>299.000</td>\n",
       "      <td>0.649</td>\n",
       "      <td>0.478</td>\n",
       "      <td>0.000</td>\n",
       "      <td>0.000</td>\n",
       "      <td>1.000</td>\n",
       "      <td>1.000</td>\n",
       "      <td>1.000</td>\n",
       "    </tr>\n",
       "    <tr>\n",
       "      <th>smoking</th>\n",
       "      <td>299.000</td>\n",
       "      <td>0.321</td>\n",
       "      <td>0.468</td>\n",
       "      <td>0.000</td>\n",
       "      <td>0.000</td>\n",
       "      <td>0.000</td>\n",
       "      <td>1.000</td>\n",
       "      <td>1.000</td>\n",
       "    </tr>\n",
       "    <tr>\n",
       "      <th>time</th>\n",
       "      <td>299.000</td>\n",
       "      <td>130.261</td>\n",
       "      <td>77.614</td>\n",
       "      <td>4.000</td>\n",
       "      <td>73.000</td>\n",
       "      <td>115.000</td>\n",
       "      <td>203.000</td>\n",
       "      <td>285.000</td>\n",
       "    </tr>\n",
       "    <tr>\n",
       "      <th>DEATH_EVENT</th>\n",
       "      <td>299.000</td>\n",
       "      <td>0.321</td>\n",
       "      <td>0.468</td>\n",
       "      <td>0.000</td>\n",
       "      <td>0.000</td>\n",
       "      <td>0.000</td>\n",
       "      <td>1.000</td>\n",
       "      <td>1.000</td>\n",
       "    </tr>\n",
       "  </tbody>\n",
       "</table>\n",
       "</div>"
      ],
      "text/plain": [
       "                           count       mean       std       min        25%  \\\n",
       "age                      299.000     60.834    11.895    40.000     51.000   \n",
       "anaemia                  299.000      0.431     0.496     0.000      0.000   \n",
       "creatinine_phosphokinase 299.000    581.839   970.288    23.000    116.500   \n",
       "diabetes                 299.000      0.418     0.494     0.000      0.000   \n",
       "ejection_fraction        299.000     38.084    11.835    14.000     30.000   \n",
       "high_blood_pressure      299.000      0.351     0.478     0.000      0.000   \n",
       "platelets                299.000 263358.029 97804.237 25100.000 212500.000   \n",
       "serum_creatinine         299.000      1.394     1.035     0.500      0.900   \n",
       "serum_sodium             299.000    136.625     4.412   113.000    134.000   \n",
       "sex                      299.000      0.649     0.478     0.000      0.000   \n",
       "smoking                  299.000      0.321     0.468     0.000      0.000   \n",
       "time                     299.000    130.261    77.614     4.000     73.000   \n",
       "DEATH_EVENT              299.000      0.321     0.468     0.000      0.000   \n",
       "\n",
       "                                50%        75%        max  \n",
       "age                          60.000     70.000     95.000  \n",
       "anaemia                       0.000      1.000      1.000  \n",
       "creatinine_phosphokinase    250.000    582.000   7861.000  \n",
       "diabetes                      0.000      1.000      1.000  \n",
       "ejection_fraction            38.000     45.000     80.000  \n",
       "high_blood_pressure           0.000      1.000      1.000  \n",
       "platelets                262000.000 303500.000 850000.000  \n",
       "serum_creatinine              1.100      1.400      9.400  \n",
       "serum_sodium                137.000    140.000    148.000  \n",
       "sex                           1.000      1.000      1.000  \n",
       "smoking                       0.000      1.000      1.000  \n",
       "time                        115.000    203.000    285.000  \n",
       "DEATH_EVENT                   0.000      1.000      1.000  "
      ]
     },
     "execution_count": 19,
     "metadata": {},
     "output_type": "execute_result"
    }
   ],
   "source": [
    "# basic descriptive\n",
    "#display.float_format will display only float values of the dataset and not int64 values\n",
    "pd.set_option('display.float_format', lambda x: '%.3f' % x)\n",
    "df.describe().transpose()"
   ]
  },
  {
   "cell_type": "markdown",
   "id": "0ac04518",
   "metadata": {},
   "source": [
    "# 2.DATA FILTERING"
   ]
  },
  {
   "cell_type": "code",
   "execution_count": 20,
   "id": "c0a46385",
   "metadata": {},
   "outputs": [
    {
     "data": {
      "text/html": [
       "<div>\n",
       "<style scoped>\n",
       "    .dataframe tbody tr th:only-of-type {\n",
       "        vertical-align: middle;\n",
       "    }\n",
       "\n",
       "    .dataframe tbody tr th {\n",
       "        vertical-align: top;\n",
       "    }\n",
       "\n",
       "    .dataframe thead th {\n",
       "        text-align: right;\n",
       "    }\n",
       "</style>\n",
       "<table border=\"1\" class=\"dataframe\">\n",
       "  <thead>\n",
       "    <tr style=\"text-align: right;\">\n",
       "      <th></th>\n",
       "      <th>age</th>\n",
       "      <th>anaemia</th>\n",
       "      <th>creatinine_phosphokinase</th>\n",
       "      <th>diabetes</th>\n",
       "      <th>ejection_fraction</th>\n",
       "      <th>high_blood_pressure</th>\n",
       "      <th>platelets</th>\n",
       "      <th>serum_creatinine</th>\n",
       "      <th>serum_sodium</th>\n",
       "      <th>sex</th>\n",
       "      <th>smoking</th>\n",
       "      <th>time</th>\n",
       "      <th>DEATH_EVENT</th>\n",
       "    </tr>\n",
       "  </thead>\n",
       "  <tbody>\n",
       "    <tr>\n",
       "      <th>0</th>\n",
       "      <td>False</td>\n",
       "      <td>False</td>\n",
       "      <td>False</td>\n",
       "      <td>False</td>\n",
       "      <td>False</td>\n",
       "      <td>False</td>\n",
       "      <td>False</td>\n",
       "      <td>False</td>\n",
       "      <td>False</td>\n",
       "      <td>False</td>\n",
       "      <td>False</td>\n",
       "      <td>False</td>\n",
       "      <td>False</td>\n",
       "    </tr>\n",
       "    <tr>\n",
       "      <th>1</th>\n",
       "      <td>False</td>\n",
       "      <td>False</td>\n",
       "      <td>False</td>\n",
       "      <td>False</td>\n",
       "      <td>False</td>\n",
       "      <td>False</td>\n",
       "      <td>False</td>\n",
       "      <td>False</td>\n",
       "      <td>False</td>\n",
       "      <td>False</td>\n",
       "      <td>False</td>\n",
       "      <td>False</td>\n",
       "      <td>False</td>\n",
       "    </tr>\n",
       "    <tr>\n",
       "      <th>2</th>\n",
       "      <td>False</td>\n",
       "      <td>False</td>\n",
       "      <td>False</td>\n",
       "      <td>False</td>\n",
       "      <td>False</td>\n",
       "      <td>False</td>\n",
       "      <td>False</td>\n",
       "      <td>False</td>\n",
       "      <td>False</td>\n",
       "      <td>False</td>\n",
       "      <td>False</td>\n",
       "      <td>False</td>\n",
       "      <td>False</td>\n",
       "    </tr>\n",
       "    <tr>\n",
       "      <th>3</th>\n",
       "      <td>False</td>\n",
       "      <td>False</td>\n",
       "      <td>False</td>\n",
       "      <td>False</td>\n",
       "      <td>False</td>\n",
       "      <td>False</td>\n",
       "      <td>False</td>\n",
       "      <td>False</td>\n",
       "      <td>False</td>\n",
       "      <td>False</td>\n",
       "      <td>False</td>\n",
       "      <td>False</td>\n",
       "      <td>False</td>\n",
       "    </tr>\n",
       "    <tr>\n",
       "      <th>4</th>\n",
       "      <td>False</td>\n",
       "      <td>False</td>\n",
       "      <td>False</td>\n",
       "      <td>False</td>\n",
       "      <td>False</td>\n",
       "      <td>False</td>\n",
       "      <td>False</td>\n",
       "      <td>False</td>\n",
       "      <td>False</td>\n",
       "      <td>False</td>\n",
       "      <td>False</td>\n",
       "      <td>False</td>\n",
       "      <td>False</td>\n",
       "    </tr>\n",
       "    <tr>\n",
       "      <th>...</th>\n",
       "      <td>...</td>\n",
       "      <td>...</td>\n",
       "      <td>...</td>\n",
       "      <td>...</td>\n",
       "      <td>...</td>\n",
       "      <td>...</td>\n",
       "      <td>...</td>\n",
       "      <td>...</td>\n",
       "      <td>...</td>\n",
       "      <td>...</td>\n",
       "      <td>...</td>\n",
       "      <td>...</td>\n",
       "      <td>...</td>\n",
       "    </tr>\n",
       "    <tr>\n",
       "      <th>294</th>\n",
       "      <td>False</td>\n",
       "      <td>False</td>\n",
       "      <td>False</td>\n",
       "      <td>False</td>\n",
       "      <td>False</td>\n",
       "      <td>False</td>\n",
       "      <td>False</td>\n",
       "      <td>False</td>\n",
       "      <td>False</td>\n",
       "      <td>False</td>\n",
       "      <td>False</td>\n",
       "      <td>False</td>\n",
       "      <td>False</td>\n",
       "    </tr>\n",
       "    <tr>\n",
       "      <th>295</th>\n",
       "      <td>False</td>\n",
       "      <td>False</td>\n",
       "      <td>False</td>\n",
       "      <td>False</td>\n",
       "      <td>False</td>\n",
       "      <td>False</td>\n",
       "      <td>False</td>\n",
       "      <td>False</td>\n",
       "      <td>False</td>\n",
       "      <td>False</td>\n",
       "      <td>False</td>\n",
       "      <td>False</td>\n",
       "      <td>False</td>\n",
       "    </tr>\n",
       "    <tr>\n",
       "      <th>296</th>\n",
       "      <td>False</td>\n",
       "      <td>False</td>\n",
       "      <td>False</td>\n",
       "      <td>False</td>\n",
       "      <td>False</td>\n",
       "      <td>False</td>\n",
       "      <td>False</td>\n",
       "      <td>False</td>\n",
       "      <td>False</td>\n",
       "      <td>False</td>\n",
       "      <td>False</td>\n",
       "      <td>False</td>\n",
       "      <td>False</td>\n",
       "    </tr>\n",
       "    <tr>\n",
       "      <th>297</th>\n",
       "      <td>False</td>\n",
       "      <td>False</td>\n",
       "      <td>False</td>\n",
       "      <td>False</td>\n",
       "      <td>False</td>\n",
       "      <td>False</td>\n",
       "      <td>False</td>\n",
       "      <td>False</td>\n",
       "      <td>False</td>\n",
       "      <td>False</td>\n",
       "      <td>False</td>\n",
       "      <td>False</td>\n",
       "      <td>False</td>\n",
       "    </tr>\n",
       "    <tr>\n",
       "      <th>298</th>\n",
       "      <td>False</td>\n",
       "      <td>False</td>\n",
       "      <td>False</td>\n",
       "      <td>False</td>\n",
       "      <td>False</td>\n",
       "      <td>False</td>\n",
       "      <td>False</td>\n",
       "      <td>False</td>\n",
       "      <td>False</td>\n",
       "      <td>False</td>\n",
       "      <td>False</td>\n",
       "      <td>False</td>\n",
       "      <td>False</td>\n",
       "    </tr>\n",
       "  </tbody>\n",
       "</table>\n",
       "<p>299 rows × 13 columns</p>\n",
       "</div>"
      ],
      "text/plain": [
       "       age  anaemia  creatinine_phosphokinase  diabetes  ejection_fraction  \\\n",
       "0    False    False                     False     False              False   \n",
       "1    False    False                     False     False              False   \n",
       "2    False    False                     False     False              False   \n",
       "3    False    False                     False     False              False   \n",
       "4    False    False                     False     False              False   \n",
       "..     ...      ...                       ...       ...                ...   \n",
       "294  False    False                     False     False              False   \n",
       "295  False    False                     False     False              False   \n",
       "296  False    False                     False     False              False   \n",
       "297  False    False                     False     False              False   \n",
       "298  False    False                     False     False              False   \n",
       "\n",
       "     high_blood_pressure  platelets  serum_creatinine  serum_sodium    sex  \\\n",
       "0                  False      False             False         False  False   \n",
       "1                  False      False             False         False  False   \n",
       "2                  False      False             False         False  False   \n",
       "3                  False      False             False         False  False   \n",
       "4                  False      False             False         False  False   \n",
       "..                   ...        ...               ...           ...    ...   \n",
       "294                False      False             False         False  False   \n",
       "295                False      False             False         False  False   \n",
       "296                False      False             False         False  False   \n",
       "297                False      False             False         False  False   \n",
       "298                False      False             False         False  False   \n",
       "\n",
       "     smoking   time  DEATH_EVENT  \n",
       "0      False  False        False  \n",
       "1      False  False        False  \n",
       "2      False  False        False  \n",
       "3      False  False        False  \n",
       "4      False  False        False  \n",
       "..       ...    ...          ...  \n",
       "294    False  False        False  \n",
       "295    False  False        False  \n",
       "296    False  False        False  \n",
       "297    False  False        False  \n",
       "298    False  False        False  \n",
       "\n",
       "[299 rows x 13 columns]"
      ]
     },
     "execution_count": 20,
     "metadata": {},
     "output_type": "execute_result"
    }
   ],
   "source": [
    "## to find null values\n",
    "df.isnull()"
   ]
  },
  {
   "cell_type": "code",
   "execution_count": 21,
   "id": "5bd5c8be",
   "metadata": {},
   "outputs": [
    {
     "data": {
      "text/plain": [
       "age                         0\n",
       "anaemia                     0\n",
       "creatinine_phosphokinase    0\n",
       "diabetes                    0\n",
       "ejection_fraction           0\n",
       "high_blood_pressure         0\n",
       "platelets                   0\n",
       "serum_creatinine            0\n",
       "serum_sodium                0\n",
       "sex                         0\n",
       "smoking                     0\n",
       "time                        0\n",
       "DEATH_EVENT                 0\n",
       "dtype: int64"
      ]
     },
     "execution_count": 21,
     "metadata": {},
     "output_type": "execute_result"
    }
   ],
   "source": [
    "# to get count of all the missing values in each column and describe which columns are missing values and to what extent\n",
    "df.isnull().sum()"
   ]
  },
  {
   "cell_type": "code",
   "execution_count": 22,
   "id": "3ec25edb",
   "metadata": {},
   "outputs": [
    {
     "data": {
      "text/plain": [
       "age                        0.000\n",
       "anaemia                    0.000\n",
       "creatinine_phosphokinase   0.000\n",
       "diabetes                   0.000\n",
       "ejection_fraction          0.000\n",
       "high_blood_pressure        0.000\n",
       "platelets                  0.000\n",
       "serum_creatinine           0.000\n",
       "serum_sodium               0.000\n",
       "sex                        0.000\n",
       "smoking                    0.000\n",
       "time                       0.000\n",
       "DEATH_EVENT                0.000\n",
       "dtype: float64"
      ]
     },
     "execution_count": 22,
     "metadata": {},
     "output_type": "execute_result"
    }
   ],
   "source": [
    "#to get this data in %\n",
    "df.isnull().sum()/len(df)*100"
   ]
  },
  {
   "cell_type": "code",
   "execution_count": 23,
   "id": "918890fa",
   "metadata": {},
   "outputs": [],
   "source": [
    "#other ways to look for missing values \n",
    "import missingno as msno"
   ]
  },
  {
   "cell_type": "code",
   "execution_count": 24,
   "id": "33347c3f",
   "metadata": {},
   "outputs": [
    {
     "data": {
      "image/png": "[encoded data removed]",
      "text/plain": [
       "<Figure size 2400x1000 with 3 Axes>"
      ]
     },
     "metadata": {},
     "output_type": "display_data"
    }
   ],
   "source": [
    "#to visualize relative missingness of the columns and anything thats not of length as the other bars as missing values \n",
    "msno.bar(df)\n",
    "plt.show()"
   ]
  },
  {
   "cell_type": "code",
   "execution_count": 25,
   "id": "15af0466",
   "metadata": {},
   "outputs": [
    {
     "data": {
      "image/png": "[encoded data removed]",
      "text/plain": [
       "<Figure size 2500x1000 with 2 Axes>"
      ]
     },
     "metadata": {},
     "output_type": "display_data"
    }
   ],
   "source": [
    "#to visualize the relative missingness of culumns using matrix in which it gives you a printout of the matrix when a missing \n",
    "#value occurs we will get a white space\n",
    "msno.matrix(df)\n",
    "plt.show()\n"
   ]
  },
  {
   "cell_type": "code",
   "execution_count": 26,
   "id": "f55f1b7b",
   "metadata": {},
   "outputs": [],
   "source": [
    "#no missing values so no white spaces in matrix  and all same length bars "
   ]
  },
  {
   "cell_type": "code",
   "execution_count": 27,
   "id": "3e9e4773",
   "metadata": {},
   "outputs": [],
   "source": [
    "# NO MISSING VALUES IN THE DATASET"
   ]
  },
  {
   "cell_type": "markdown",
   "id": "4be7a4bb",
   "metadata": {},
   "source": [
    "# 2.1 CHECKING FOR DUPLICATES\n"
   ]
  },
  {
   "cell_type": "code",
   "execution_count": 28,
   "id": "7e477f1b",
   "metadata": {},
   "outputs": [
    {
     "data": {
      "text/plain": [
       "0"
      ]
     },
     "execution_count": 28,
     "metadata": {},
     "output_type": "execute_result"
    }
   ],
   "source": [
    "df.duplicated().sum()"
   ]
  },
  {
   "cell_type": "code",
   "execution_count": 29,
   "id": "aee3a5a4",
   "metadata": {},
   "outputs": [],
   "source": [
    "#since there are no duplicates in the dataset we dont have to drop the duplicates using df.drop_duplictes(['subset'])"
   ]
  },
  {
   "cell_type": "markdown",
   "id": "11ad9061",
   "metadata": {},
   "source": [
    "# 3.TRANSFORM"
   ]
  },
  {
   "cell_type": "code",
   "execution_count": 30,
   "id": "cc382b1b",
   "metadata": {},
   "outputs": [
    {
     "name": "stdout",
     "output_type": "stream",
     "text": [
      "<class 'pandas.core.frame.DataFrame'>\n",
      "RangeIndex: 299 entries, 0 to 298\n",
      "Data columns (total 13 columns):\n",
      " #   Column                    Non-Null Count  Dtype  \n",
      "---  ------                    --------------  -----  \n",
      " 0   age                       299 non-null    float64\n",
      " 1   anaemia                   299 non-null    int64  \n",
      " 2   creatinine_phosphokinase  299 non-null    int64  \n",
      " 3   diabetes                  299 non-null    int64  \n",
      " 4   ejection_fraction         299 non-null    int64  \n",
      " 5   high_blood_pressure       299 non-null    int64  \n",
      " 6   platelets                 299 non-null    float64\n",
      " 7   serum_creatinine          299 non-null    float64\n",
      " 8   serum_sodium              299 non-null    int64  \n",
      " 9   sex                       299 non-null    int64  \n",
      " 10  smoking                   299 non-null    int64  \n",
      " 11  time                      299 non-null    int64  \n",
      " 12  DEATH_EVENT               299 non-null    int64  \n",
      "dtypes: float64(3), int64(10)\n",
      "memory usage: 30.5 KB\n"
     ]
    }
   ],
   "source": [
    "# transform the values into a form that is suitable for modeling\n",
    "df.info()"
   ]
  },
  {
   "cell_type": "code",
   "execution_count": 31,
   "id": "3c88d295",
   "metadata": {},
   "outputs": [],
   "source": [
    "#convert time string to pandas datetime object\n",
    "#df['time']=pd.to_datetime(df['time'])"
   ]
  },
  {
   "cell_type": "code",
   "execution_count": 32,
   "id": "7535eda5",
   "metadata": {},
   "outputs": [
    {
     "name": "stdout",
     "output_type": "stream",
     "text": [
      "<class 'pandas.core.frame.DataFrame'>\n",
      "RangeIndex: 299 entries, 0 to 298\n",
      "Data columns (total 13 columns):\n",
      " #   Column                    Non-Null Count  Dtype  \n",
      "---  ------                    --------------  -----  \n",
      " 0   age                       299 non-null    float64\n",
      " 1   anaemia                   299 non-null    int64  \n",
      " 2   creatinine_phosphokinase  299 non-null    int64  \n",
      " 3   diabetes                  299 non-null    int64  \n",
      " 4   ejection_fraction         299 non-null    int64  \n",
      " 5   high_blood_pressure       299 non-null    int64  \n",
      " 6   platelets                 299 non-null    float64\n",
      " 7   serum_creatinine          299 non-null    float64\n",
      " 8   serum_sodium              299 non-null    int64  \n",
      " 9   sex                       299 non-null    int64  \n",
      " 10  smoking                   299 non-null    int64  \n",
      " 11  time                      299 non-null    int64  \n",
      " 12  DEATH_EVENT               299 non-null    int64  \n",
      "dtypes: float64(3), int64(10)\n",
      "memory usage: 30.5 KB\n"
     ]
    }
   ],
   "source": [
    "df.info()"
   ]
  },
  {
   "cell_type": "markdown",
   "id": "ceec9f84",
   "metadata": {},
   "source": [
    "# Exploratory Data analysis"
   ]
  },
  {
   "cell_type": "markdown",
   "id": "25cf78b0",
   "metadata": {},
   "source": [
    "## Target variable\n"
   ]
  },
  {
   "cell_type": "code",
   "execution_count": 33,
   "id": "f2c4ded4",
   "metadata": {},
   "outputs": [
    {
     "data": {
      "text/plain": [
       "0   0.679\n",
       "1   0.321\n",
       "Name: DEATH_EVENT, dtype: float64"
      ]
     },
     "execution_count": 33,
     "metadata": {},
     "output_type": "execute_result"
    }
   ],
   "source": [
    "df['DEATH_EVENT'].value_counts(normalize=True)"
   ]
  },
  {
   "cell_type": "code",
   "execution_count": 34,
   "id": "44c5c887",
   "metadata": {},
   "outputs": [
    {
     "data": {
      "image/png": "[encoded data removed]",
      "text/plain": [
       "<Figure size 640x480 with 1 Axes>"
      ]
     },
     "metadata": {},
     "output_type": "display_data"
    }
   ],
   "source": [
    "df['DEATH_EVENT'].value_counts(normalize=True).plot(kind='bar')\n",
    "plt.show()"
   ]
  },
  {
   "cell_type": "code",
   "execution_count": 35,
   "id": "490eb643",
   "metadata": {},
   "outputs": [
    {
     "data": {
      "text/html": [
       "<div>\n",
       "<style scoped>\n",
       "    .dataframe tbody tr th:only-of-type {\n",
       "        vertical-align: middle;\n",
       "    }\n",
       "\n",
       "    .dataframe tbody tr th {\n",
       "        vertical-align: top;\n",
       "    }\n",
       "\n",
       "    .dataframe thead th {\n",
       "        text-align: right;\n",
       "    }\n",
       "</style>\n",
       "<table border=\"1\" class=\"dataframe\">\n",
       "  <thead>\n",
       "    <tr style=\"text-align: right;\">\n",
       "      <th></th>\n",
       "      <th>age</th>\n",
       "      <th>anaemia</th>\n",
       "      <th>creatinine_phosphokinase</th>\n",
       "      <th>diabetes</th>\n",
       "      <th>ejection_fraction</th>\n",
       "      <th>high_blood_pressure</th>\n",
       "      <th>platelets</th>\n",
       "      <th>serum_creatinine</th>\n",
       "      <th>serum_sodium</th>\n",
       "      <th>smoking</th>\n",
       "      <th>time</th>\n",
       "      <th>DEATH_EVENT</th>\n",
       "    </tr>\n",
       "    <tr>\n",
       "      <th>sex</th>\n",
       "      <th></th>\n",
       "      <th></th>\n",
       "      <th></th>\n",
       "      <th></th>\n",
       "      <th></th>\n",
       "      <th></th>\n",
       "      <th></th>\n",
       "      <th></th>\n",
       "      <th></th>\n",
       "      <th></th>\n",
       "      <th></th>\n",
       "      <th></th>\n",
       "    </tr>\n",
       "  </thead>\n",
       "  <tbody>\n",
       "    <tr>\n",
       "      <th>0</th>\n",
       "      <td>59.778</td>\n",
       "      <td>0.495</td>\n",
       "      <td>476.781</td>\n",
       "      <td>0.524</td>\n",
       "      <td>40.467</td>\n",
       "      <td>0.419</td>\n",
       "      <td>279964.022</td>\n",
       "      <td>1.384</td>\n",
       "      <td>136.790</td>\n",
       "      <td>0.038</td>\n",
       "      <td>131.905</td>\n",
       "      <td>0.324</td>\n",
       "    </tr>\n",
       "    <tr>\n",
       "      <th>1</th>\n",
       "      <td>61.405</td>\n",
       "      <td>0.397</td>\n",
       "      <td>638.701</td>\n",
       "      <td>0.361</td>\n",
       "      <td>36.794</td>\n",
       "      <td>0.314</td>\n",
       "      <td>254370.250</td>\n",
       "      <td>1.399</td>\n",
       "      <td>136.536</td>\n",
       "      <td>0.474</td>\n",
       "      <td>129.371</td>\n",
       "      <td>0.320</td>\n",
       "    </tr>\n",
       "  </tbody>\n",
       "</table>\n",
       "</div>"
      ],
      "text/plain": [
       "       age  anaemia  creatinine_phosphokinase  diabetes  ejection_fraction  \\\n",
       "sex                                                                          \n",
       "0   59.778    0.495                   476.781     0.524             40.467   \n",
       "1   61.405    0.397                   638.701     0.361             36.794   \n",
       "\n",
       "     high_blood_pressure  platelets  serum_creatinine  serum_sodium  smoking  \\\n",
       "sex                                                                            \n",
       "0                  0.419 279964.022             1.384       136.790    0.038   \n",
       "1                  0.314 254370.250             1.399       136.536    0.474   \n",
       "\n",
       "       time  DEATH_EVENT  \n",
       "sex                       \n",
       "0   131.905        0.324  \n",
       "1   129.371        0.320  "
      ]
     },
     "execution_count": 35,
     "metadata": {},
     "output_type": "execute_result"
    }
   ],
   "source": [
    "#dividing the dataset by gender\n",
    "df.groupby('sex').mean()"
   ]
  },
  {
   "cell_type": "code",
   "execution_count": 36,
   "id": "609ea393",
   "metadata": {},
   "outputs": [
    {
     "data": {
      "text/plain": [
       "sex\n",
       "0   0.324\n",
       "1   0.320\n",
       "Name: DEATH_EVENT, dtype: float64"
      ]
     },
     "execution_count": 36,
     "metadata": {},
     "output_type": "execute_result"
    }
   ],
   "source": [
    "#if we only want to focus on target variable\n",
    "df.groupby('sex')['DEATH_EVENT'].mean()"
   ]
  },
  {
   "cell_type": "code",
   "execution_count": 37,
   "id": "6c66973f",
   "metadata": {},
   "outputs": [
    {
     "data": {
      "text/plain": [
       "<AxesSubplot:xlabel='sex'>"
      ]
     },
     "execution_count": 37,
     "metadata": {},
     "output_type": "execute_result"
    },
    {
     "data": {
      "image/png": "[encoded data removed]",
      "text/plain": [
       "<Figure size 640x480 with 1 Axes>"
      ]
     },
     "metadata": {},
     "output_type": "display_data"
    }
   ],
   "source": [
    "df.groupby('sex')['DEATH_EVENT'].mean().plot(kind='bar')"
   ]
  },
  {
   "cell_type": "code",
   "execution_count": 38,
   "id": "70fb903c",
   "metadata": {},
   "outputs": [],
   "source": [
    "#replacing 0 and 1 with male and female for better readability by creating a new column"
   ]
  },
  {
   "cell_type": "code",
   "execution_count": 39,
   "id": "78a967b9",
   "metadata": {},
   "outputs": [],
   "source": [
    "#df['sex_cat'] = df['sex'].replace([0,1],['male','female'])"
   ]
  },
  {
   "cell_type": "code",
   "execution_count": 1,
   "id": "3c8ac274",
   "metadata": {},
   "outputs": [],
   "source": [
    "#df.groupby('sex_cat')['DEATH_EVENT'].mean().plot(kind='bar')"
   ]
  },
  {
   "cell_type": "code",
   "execution_count": 2,
   "id": "66d848e5",
   "metadata": {},
   "outputs": [],
   "source": [
    "#sns module allows us to plot categorical variables such as male and female\n",
    "#sns.catplot(data=df,y='DEATH_EVENT',x='sex_cat',kind='bar')\n",
    "#plt.show()"
   ]
  },
  {
   "cell_type": "code",
   "execution_count": 42,
   "id": "1c29234e",
   "metadata": {},
   "outputs": [
    {
     "data": {
      "image/png": "[encoded data removed]",
      "text/plain": [
       "<Figure size 1200x700 with 1 Axes>"
      ]
     },
     "metadata": {},
     "output_type": "display_data"
    }
   ],
   "source": [
    "#to make a scatter plot on different columns for continuous variables and we can obsever any outlier datapoints along with  \n",
    "#how the deaths are distributed \n",
    "plt.figure(figsize=(12,7))\n",
    "sns.scatterplot(data=df,y='creatinine_phosphokinase',x='platelets',hue='DEATH_EVENT')\n",
    "plt.show()\n"
   ]
  },
  {
   "cell_type": "code",
   "execution_count": 43,
   "id": "69fd84ce",
   "metadata": {},
   "outputs": [
    {
     "data": {
      "image/png": "[encoded data removed]",
      "text/plain": [
       "<Figure size 1200x700 with 1 Axes>"
      ]
     },
     "metadata": {},
     "output_type": "display_data"
    }
   ],
   "source": [
    "#we can also use sns regplot which gives us a trend line to find whether there exists any linear relationship between those \n",
    "#variables\n",
    "plt.figure(figsize=(12,7))\n",
    "sns.regplot(data=df,y='creatinine_phosphokinase',x='platelets')\n",
    "plt.show()\n"
   ]
  },
  {
   "cell_type": "code",
   "execution_count": 44,
   "id": "b10bc88f",
   "metadata": {},
   "outputs": [],
   "source": [
    "#depending upon the angle of the trendline ,if its a steep angle there is a strong relationship and if its a small angle there\n",
    "#is a week relationship and if its a straight line there is no relationship"
   ]
  },
  {
   "cell_type": "code",
   "execution_count": 45,
   "id": "0e0cf3ec",
   "metadata": {},
   "outputs": [],
   "source": [
    "cate_val=[]\n",
    "cont_val=[]\n",
    "for column in df.columns:\n",
    "    if df[column].nunique() <=10:\n",
    "        cate_val.append(column)\n",
    "    else:\n",
    "        cont_val.append(column)"
   ]
  },
  {
   "cell_type": "code",
   "execution_count": 46,
   "id": "a3b62083",
   "metadata": {},
   "outputs": [
    {
     "data": {
      "text/plain": [
       "['anaemia', 'diabetes', 'high_blood_pressure', 'sex', 'smoking', 'DEATH_EVENT']"
      ]
     },
     "execution_count": 46,
     "metadata": {},
     "output_type": "execute_result"
    }
   ],
   "source": [
    "cate_val"
   ]
  },
  {
   "cell_type": "code",
   "execution_count": 47,
   "id": "fd470ec7",
   "metadata": {},
   "outputs": [
    {
     "data": {
      "text/plain": [
       "['age',\n",
       " 'creatinine_phosphokinase',\n",
       " 'ejection_fraction',\n",
       " 'platelets',\n",
       " 'serum_creatinine',\n",
       " 'serum_sodium',\n",
       " 'time']"
      ]
     },
     "execution_count": 47,
     "metadata": {},
     "output_type": "execute_result"
    }
   ],
   "source": [
    "cont_val"
   ]
  },
  {
   "cell_type": "code",
   "execution_count": 48,
   "id": "80cc6c30",
   "metadata": {},
   "outputs": [
    {
     "data": {
      "text/plain": [
       "array([0, 1], dtype=int64)"
      ]
     },
     "execution_count": 48,
     "metadata": {},
     "output_type": "execute_result"
    }
   ],
   "source": [
    "df['smoking'].unique()"
   ]
  },
  {
   "cell_type": "code",
   "execution_count": 49,
   "id": "ceaf96c6",
   "metadata": {},
   "outputs": [],
   "source": [
    "from sklearn.preprocessing import StandardScaler"
   ]
  },
  {
   "cell_type": "code",
   "execution_count": 50,
   "id": "6ba26d24",
   "metadata": {},
   "outputs": [],
   "source": [
    "st=StandardScaler()\n",
    "df[cont_val]=st.fit_transform(df[cont_val])"
   ]
  },
  {
   "cell_type": "code",
   "execution_count": 51,
   "id": "3621dd60",
   "metadata": {},
   "outputs": [
    {
     "data": {
      "text/html": [
       "<div>\n",
       "<style scoped>\n",
       "    .dataframe tbody tr th:only-of-type {\n",
       "        vertical-align: middle;\n",
       "    }\n",
       "\n",
       "    .dataframe tbody tr th {\n",
       "        vertical-align: top;\n",
       "    }\n",
       "\n",
       "    .dataframe thead th {\n",
       "        text-align: right;\n",
       "    }\n",
       "</style>\n",
       "<table border=\"1\" class=\"dataframe\">\n",
       "  <thead>\n",
       "    <tr style=\"text-align: right;\">\n",
       "      <th></th>\n",
       "      <th>age</th>\n",
       "      <th>anaemia</th>\n",
       "      <th>creatinine_phosphokinase</th>\n",
       "      <th>diabetes</th>\n",
       "      <th>ejection_fraction</th>\n",
       "      <th>high_blood_pressure</th>\n",
       "      <th>platelets</th>\n",
       "      <th>serum_creatinine</th>\n",
       "      <th>serum_sodium</th>\n",
       "      <th>sex</th>\n",
       "      <th>smoking</th>\n",
       "      <th>time</th>\n",
       "      <th>DEATH_EVENT</th>\n",
       "    </tr>\n",
       "  </thead>\n",
       "  <tbody>\n",
       "    <tr>\n",
       "      <th>0</th>\n",
       "      <td>1.193</td>\n",
       "      <td>0</td>\n",
       "      <td>0.000</td>\n",
       "      <td>0</td>\n",
       "      <td>-1.531</td>\n",
       "      <td>1</td>\n",
       "      <td>0.017</td>\n",
       "      <td>0.490</td>\n",
       "      <td>-1.504</td>\n",
       "      <td>1</td>\n",
       "      <td>0</td>\n",
       "      <td>-1.630</td>\n",
       "      <td>1</td>\n",
       "    </tr>\n",
       "    <tr>\n",
       "      <th>1</th>\n",
       "      <td>-0.491</td>\n",
       "      <td>0</td>\n",
       "      <td>7.515</td>\n",
       "      <td>0</td>\n",
       "      <td>-0.007</td>\n",
       "      <td>0</td>\n",
       "      <td>0.000</td>\n",
       "      <td>-0.285</td>\n",
       "      <td>-0.142</td>\n",
       "      <td>1</td>\n",
       "      <td>0</td>\n",
       "      <td>-1.604</td>\n",
       "      <td>1</td>\n",
       "    </tr>\n",
       "    <tr>\n",
       "      <th>2</th>\n",
       "      <td>0.351</td>\n",
       "      <td>0</td>\n",
       "      <td>-0.450</td>\n",
       "      <td>0</td>\n",
       "      <td>-1.531</td>\n",
       "      <td>0</td>\n",
       "      <td>-1.038</td>\n",
       "      <td>-0.091</td>\n",
       "      <td>-1.731</td>\n",
       "      <td>1</td>\n",
       "      <td>1</td>\n",
       "      <td>-1.591</td>\n",
       "      <td>1</td>\n",
       "    </tr>\n",
       "    <tr>\n",
       "      <th>3</th>\n",
       "      <td>-0.912</td>\n",
       "      <td>1</td>\n",
       "      <td>-0.486</td>\n",
       "      <td>0</td>\n",
       "      <td>-1.531</td>\n",
       "      <td>0</td>\n",
       "      <td>-0.546</td>\n",
       "      <td>0.490</td>\n",
       "      <td>0.085</td>\n",
       "      <td>1</td>\n",
       "      <td>0</td>\n",
       "      <td>-1.591</td>\n",
       "      <td>1</td>\n",
       "    </tr>\n",
       "    <tr>\n",
       "      <th>4</th>\n",
       "      <td>0.351</td>\n",
       "      <td>1</td>\n",
       "      <td>-0.435</td>\n",
       "      <td>1</td>\n",
       "      <td>-1.531</td>\n",
       "      <td>0</td>\n",
       "      <td>0.652</td>\n",
       "      <td>1.265</td>\n",
       "      <td>-4.682</td>\n",
       "      <td>0</td>\n",
       "      <td>0</td>\n",
       "      <td>-1.578</td>\n",
       "      <td>1</td>\n",
       "    </tr>\n",
       "  </tbody>\n",
       "</table>\n",
       "</div>"
      ],
      "text/plain": [
       "     age  anaemia  creatinine_phosphokinase  diabetes  ejection_fraction  \\\n",
       "0  1.193        0                     0.000         0             -1.531   \n",
       "1 -0.491        0                     7.515         0             -0.007   \n",
       "2  0.351        0                    -0.450         0             -1.531   \n",
       "3 -0.912        1                    -0.486         0             -1.531   \n",
       "4  0.351        1                    -0.435         1             -1.531   \n",
       "\n",
       "   high_blood_pressure  platelets  serum_creatinine  serum_sodium  sex  \\\n",
       "0                    1      0.017             0.490        -1.504    1   \n",
       "1                    0      0.000            -0.285        -0.142    1   \n",
       "2                    0     -1.038            -0.091        -1.731    1   \n",
       "3                    0     -0.546             0.490         0.085    1   \n",
       "4                    0      0.652             1.265        -4.682    0   \n",
       "\n",
       "   smoking   time  DEATH_EVENT  \n",
       "0        0 -1.630            1  \n",
       "1        0 -1.604            1  \n",
       "2        1 -1.591            1  \n",
       "3        0 -1.591            1  \n",
       "4        0 -1.578            1  "
      ]
     },
     "execution_count": 51,
     "metadata": {},
     "output_type": "execute_result"
    }
   ],
   "source": [
    "df.head()"
   ]
  },
  {
   "cell_type": "markdown",
   "id": "ae139771",
   "metadata": {},
   "source": [
    "# SPLITTING DATASET INTO TRAINING SET AND TESTING SET"
   ]
  },
  {
   "cell_type": "code",
   "execution_count": 52,
   "id": "4a129d3e",
   "metadata": {},
   "outputs": [],
   "source": [
    "X=df.drop('DEATH_EVENT',axis=1)"
   ]
  },
  {
   "cell_type": "code",
   "execution_count": 53,
   "id": "c707cd03",
   "metadata": {},
   "outputs": [
    {
     "data": {
      "text/html": [
       "<div>\n",
       "<style scoped>\n",
       "    .dataframe tbody tr th:only-of-type {\n",
       "        vertical-align: middle;\n",
       "    }\n",
       "\n",
       "    .dataframe tbody tr th {\n",
       "        vertical-align: top;\n",
       "    }\n",
       "\n",
       "    .dataframe thead th {\n",
       "        text-align: right;\n",
       "    }\n",
       "</style>\n",
       "<table border=\"1\" class=\"dataframe\">\n",
       "  <thead>\n",
       "    <tr style=\"text-align: right;\">\n",
       "      <th></th>\n",
       "      <th>age</th>\n",
       "      <th>anaemia</th>\n",
       "      <th>creatinine_phosphokinase</th>\n",
       "      <th>diabetes</th>\n",
       "      <th>ejection_fraction</th>\n",
       "      <th>high_blood_pressure</th>\n",
       "      <th>platelets</th>\n",
       "      <th>serum_creatinine</th>\n",
       "      <th>serum_sodium</th>\n",
       "      <th>sex</th>\n",
       "      <th>smoking</th>\n",
       "      <th>time</th>\n",
       "    </tr>\n",
       "  </thead>\n",
       "  <tbody>\n",
       "    <tr>\n",
       "      <th>0</th>\n",
       "      <td>1.193</td>\n",
       "      <td>0</td>\n",
       "      <td>0.000</td>\n",
       "      <td>0</td>\n",
       "      <td>-1.531</td>\n",
       "      <td>1</td>\n",
       "      <td>0.017</td>\n",
       "      <td>0.490</td>\n",
       "      <td>-1.504</td>\n",
       "      <td>1</td>\n",
       "      <td>0</td>\n",
       "      <td>-1.630</td>\n",
       "    </tr>\n",
       "    <tr>\n",
       "      <th>1</th>\n",
       "      <td>-0.491</td>\n",
       "      <td>0</td>\n",
       "      <td>7.515</td>\n",
       "      <td>0</td>\n",
       "      <td>-0.007</td>\n",
       "      <td>0</td>\n",
       "      <td>0.000</td>\n",
       "      <td>-0.285</td>\n",
       "      <td>-0.142</td>\n",
       "      <td>1</td>\n",
       "      <td>0</td>\n",
       "      <td>-1.604</td>\n",
       "    </tr>\n",
       "    <tr>\n",
       "      <th>2</th>\n",
       "      <td>0.351</td>\n",
       "      <td>0</td>\n",
       "      <td>-0.450</td>\n",
       "      <td>0</td>\n",
       "      <td>-1.531</td>\n",
       "      <td>0</td>\n",
       "      <td>-1.038</td>\n",
       "      <td>-0.091</td>\n",
       "      <td>-1.731</td>\n",
       "      <td>1</td>\n",
       "      <td>1</td>\n",
       "      <td>-1.591</td>\n",
       "    </tr>\n",
       "    <tr>\n",
       "      <th>3</th>\n",
       "      <td>-0.912</td>\n",
       "      <td>1</td>\n",
       "      <td>-0.486</td>\n",
       "      <td>0</td>\n",
       "      <td>-1.531</td>\n",
       "      <td>0</td>\n",
       "      <td>-0.546</td>\n",
       "      <td>0.490</td>\n",
       "      <td>0.085</td>\n",
       "      <td>1</td>\n",
       "      <td>0</td>\n",
       "      <td>-1.591</td>\n",
       "    </tr>\n",
       "    <tr>\n",
       "      <th>4</th>\n",
       "      <td>0.351</td>\n",
       "      <td>1</td>\n",
       "      <td>-0.435</td>\n",
       "      <td>1</td>\n",
       "      <td>-1.531</td>\n",
       "      <td>0</td>\n",
       "      <td>0.652</td>\n",
       "      <td>1.265</td>\n",
       "      <td>-4.682</td>\n",
       "      <td>0</td>\n",
       "      <td>0</td>\n",
       "      <td>-1.578</td>\n",
       "    </tr>\n",
       "    <tr>\n",
       "      <th>...</th>\n",
       "      <td>...</td>\n",
       "      <td>...</td>\n",
       "      <td>...</td>\n",
       "      <td>...</td>\n",
       "      <td>...</td>\n",
       "      <td>...</td>\n",
       "      <td>...</td>\n",
       "      <td>...</td>\n",
       "      <td>...</td>\n",
       "      <td>...</td>\n",
       "      <td>...</td>\n",
       "      <td>...</td>\n",
       "    </tr>\n",
       "    <tr>\n",
       "      <th>294</th>\n",
       "      <td>0.098</td>\n",
       "      <td>0</td>\n",
       "      <td>-0.538</td>\n",
       "      <td>1</td>\n",
       "      <td>-0.007</td>\n",
       "      <td>1</td>\n",
       "      <td>-1.110</td>\n",
       "      <td>-0.285</td>\n",
       "      <td>1.447</td>\n",
       "      <td>1</td>\n",
       "      <td>1</td>\n",
       "      <td>1.803</td>\n",
       "    </tr>\n",
       "    <tr>\n",
       "      <th>295</th>\n",
       "      <td>-0.491</td>\n",
       "      <td>0</td>\n",
       "      <td>1.278</td>\n",
       "      <td>0</td>\n",
       "      <td>-0.007</td>\n",
       "      <td>0</td>\n",
       "      <td>0.068</td>\n",
       "      <td>-0.188</td>\n",
       "      <td>0.539</td>\n",
       "      <td>0</td>\n",
       "      <td>0</td>\n",
       "      <td>1.816</td>\n",
       "    </tr>\n",
       "    <tr>\n",
       "      <th>296</th>\n",
       "      <td>-1.333</td>\n",
       "      <td>0</td>\n",
       "      <td>1.526</td>\n",
       "      <td>1</td>\n",
       "      <td>1.855</td>\n",
       "      <td>0</td>\n",
       "      <td>4.902</td>\n",
       "      <td>-0.575</td>\n",
       "      <td>0.312</td>\n",
       "      <td>0</td>\n",
       "      <td>0</td>\n",
       "      <td>1.907</td>\n",
       "    </tr>\n",
       "    <tr>\n",
       "      <th>297</th>\n",
       "      <td>-1.333</td>\n",
       "      <td>0</td>\n",
       "      <td>1.890</td>\n",
       "      <td>0</td>\n",
       "      <td>-0.007</td>\n",
       "      <td>0</td>\n",
       "      <td>-1.263</td>\n",
       "      <td>0.006</td>\n",
       "      <td>0.766</td>\n",
       "      <td>1</td>\n",
       "      <td>1</td>\n",
       "      <td>1.933</td>\n",
       "    </tr>\n",
       "    <tr>\n",
       "      <th>298</th>\n",
       "      <td>-0.912</td>\n",
       "      <td>0</td>\n",
       "      <td>-0.398</td>\n",
       "      <td>0</td>\n",
       "      <td>0.585</td>\n",
       "      <td>0</td>\n",
       "      <td>1.348</td>\n",
       "      <td>0.200</td>\n",
       "      <td>-0.142</td>\n",
       "      <td>1</td>\n",
       "      <td>1</td>\n",
       "      <td>1.997</td>\n",
       "    </tr>\n",
       "  </tbody>\n",
       "</table>\n",
       "<p>299 rows × 12 columns</p>\n",
       "</div>"
      ],
      "text/plain": [
       "       age  anaemia  creatinine_phosphokinase  diabetes  ejection_fraction  \\\n",
       "0    1.193        0                     0.000         0             -1.531   \n",
       "1   -0.491        0                     7.515         0             -0.007   \n",
       "2    0.351        0                    -0.450         0             -1.531   \n",
       "3   -0.912        1                    -0.486         0             -1.531   \n",
       "4    0.351        1                    -0.435         1             -1.531   \n",
       "..     ...      ...                       ...       ...                ...   \n",
       "294  0.098        0                    -0.538         1             -0.007   \n",
       "295 -0.491        0                     1.278         0             -0.007   \n",
       "296 -1.333        0                     1.526         1              1.855   \n",
       "297 -1.333        0                     1.890         0             -0.007   \n",
       "298 -0.912        0                    -0.398         0              0.585   \n",
       "\n",
       "     high_blood_pressure  platelets  serum_creatinine  serum_sodium  sex  \\\n",
       "0                      1      0.017             0.490        -1.504    1   \n",
       "1                      0      0.000            -0.285        -0.142    1   \n",
       "2                      0     -1.038            -0.091        -1.731    1   \n",
       "3                      0     -0.546             0.490         0.085    1   \n",
       "4                      0      0.652             1.265        -4.682    0   \n",
       "..                   ...        ...               ...           ...  ...   \n",
       "294                    1     -1.110            -0.285         1.447    1   \n",
       "295                    0      0.068            -0.188         0.539    0   \n",
       "296                    0      4.902            -0.575         0.312    0   \n",
       "297                    0     -1.263             0.006         0.766    1   \n",
       "298                    0      1.348             0.200        -0.142    1   \n",
       "\n",
       "     smoking   time  \n",
       "0          0 -1.630  \n",
       "1          0 -1.604  \n",
       "2          1 -1.591  \n",
       "3          0 -1.591  \n",
       "4          0 -1.578  \n",
       "..       ...    ...  \n",
       "294        1  1.803  \n",
       "295        0  1.816  \n",
       "296        0  1.907  \n",
       "297        1  1.933  \n",
       "298        1  1.997  \n",
       "\n",
       "[299 rows x 12 columns]"
      ]
     },
     "execution_count": 53,
     "metadata": {},
     "output_type": "execute_result"
    }
   ],
   "source": [
    "X"
   ]
  },
  {
   "cell_type": "code",
   "execution_count": 54,
   "id": "ae8ffd88",
   "metadata": {},
   "outputs": [
    {
     "data": {
      "text/plain": [
       "0      1\n",
       "1      1\n",
       "2      1\n",
       "3      1\n",
       "4      1\n",
       "      ..\n",
       "294    0\n",
       "295    0\n",
       "296    0\n",
       "297    0\n",
       "298    0\n",
       "Name: DEATH_EVENT, Length: 299, dtype: int64"
      ]
     },
     "execution_count": 54,
     "metadata": {},
     "output_type": "execute_result"
    }
   ],
   "source": [
    "Y=df['DEATH_EVENT']\n",
    "Y"
   ]
  },
  {
   "cell_type": "code",
   "execution_count": 55,
   "id": "74e9a334",
   "metadata": {},
   "outputs": [],
   "source": [
    "from sklearn.model_selection import train_test_split"
   ]
  },
  {
   "cell_type": "code",
   "execution_count": 56,
   "id": "cbd1ad95",
   "metadata": {},
   "outputs": [],
   "source": [
    "X_train,X_test,Y_train,Y_test=train_test_split(X,Y,test_size=0.2,random_state=42)"
   ]
  },
  {
   "cell_type": "code",
   "execution_count": 57,
   "id": "0b5efc51",
   "metadata": {},
   "outputs": [
    {
     "data": {
      "text/plain": [
       "6      1\n",
       "183    1\n",
       "185    1\n",
       "146    0\n",
       "30     1\n",
       "      ..\n",
       "188    0\n",
       "71     0\n",
       "106    0\n",
       "270    0\n",
       "102    0\n",
       "Name: DEATH_EVENT, Length: 239, dtype: int64"
      ]
     },
     "execution_count": 57,
     "metadata": {},
     "output_type": "execute_result"
    }
   ],
   "source": [
    "Y_train"
   ]
  },
  {
   "cell_type": "markdown",
   "id": "ad70ec66",
   "metadata": {},
   "source": [
    "# LOGISTIC REGRESSION"
   ]
  },
  {
   "cell_type": "code",
   "execution_count": 58,
   "id": "6f76ac72",
   "metadata": {},
   "outputs": [
    {
     "data": {
      "text/html": [
       "<div>\n",
       "<style scoped>\n",
       "    .dataframe tbody tr th:only-of-type {\n",
       "        vertical-align: middle;\n",
       "    }\n",
       "\n",
       "    .dataframe tbody tr th {\n",
       "        vertical-align: top;\n",
       "    }\n",
       "\n",
       "    .dataframe thead th {\n",
       "        text-align: right;\n",
       "    }\n",
       "</style>\n",
       "<table border=\"1\" class=\"dataframe\">\n",
       "  <thead>\n",
       "    <tr style=\"text-align: right;\">\n",
       "      <th></th>\n",
       "      <th>age</th>\n",
       "      <th>anaemia</th>\n",
       "      <th>creatinine_phosphokinase</th>\n",
       "      <th>diabetes</th>\n",
       "      <th>ejection_fraction</th>\n",
       "      <th>high_blood_pressure</th>\n",
       "      <th>platelets</th>\n",
       "      <th>serum_creatinine</th>\n",
       "      <th>serum_sodium</th>\n",
       "      <th>sex</th>\n",
       "      <th>smoking</th>\n",
       "      <th>time</th>\n",
       "      <th>DEATH_EVENT</th>\n",
       "    </tr>\n",
       "  </thead>\n",
       "  <tbody>\n",
       "    <tr>\n",
       "      <th>0</th>\n",
       "      <td>1.193</td>\n",
       "      <td>0</td>\n",
       "      <td>0.000</td>\n",
       "      <td>0</td>\n",
       "      <td>-1.531</td>\n",
       "      <td>1</td>\n",
       "      <td>0.017</td>\n",
       "      <td>0.490</td>\n",
       "      <td>-1.504</td>\n",
       "      <td>1</td>\n",
       "      <td>0</td>\n",
       "      <td>-1.630</td>\n",
       "      <td>1</td>\n",
       "    </tr>\n",
       "    <tr>\n",
       "      <th>1</th>\n",
       "      <td>-0.491</td>\n",
       "      <td>0</td>\n",
       "      <td>7.515</td>\n",
       "      <td>0</td>\n",
       "      <td>-0.007</td>\n",
       "      <td>0</td>\n",
       "      <td>0.000</td>\n",
       "      <td>-0.285</td>\n",
       "      <td>-0.142</td>\n",
       "      <td>1</td>\n",
       "      <td>0</td>\n",
       "      <td>-1.604</td>\n",
       "      <td>1</td>\n",
       "    </tr>\n",
       "    <tr>\n",
       "      <th>2</th>\n",
       "      <td>0.351</td>\n",
       "      <td>0</td>\n",
       "      <td>-0.450</td>\n",
       "      <td>0</td>\n",
       "      <td>-1.531</td>\n",
       "      <td>0</td>\n",
       "      <td>-1.038</td>\n",
       "      <td>-0.091</td>\n",
       "      <td>-1.731</td>\n",
       "      <td>1</td>\n",
       "      <td>1</td>\n",
       "      <td>-1.591</td>\n",
       "      <td>1</td>\n",
       "    </tr>\n",
       "    <tr>\n",
       "      <th>3</th>\n",
       "      <td>-0.912</td>\n",
       "      <td>1</td>\n",
       "      <td>-0.486</td>\n",
       "      <td>0</td>\n",
       "      <td>-1.531</td>\n",
       "      <td>0</td>\n",
       "      <td>-0.546</td>\n",
       "      <td>0.490</td>\n",
       "      <td>0.085</td>\n",
       "      <td>1</td>\n",
       "      <td>0</td>\n",
       "      <td>-1.591</td>\n",
       "      <td>1</td>\n",
       "    </tr>\n",
       "    <tr>\n",
       "      <th>4</th>\n",
       "      <td>0.351</td>\n",
       "      <td>1</td>\n",
       "      <td>-0.435</td>\n",
       "      <td>1</td>\n",
       "      <td>-1.531</td>\n",
       "      <td>0</td>\n",
       "      <td>0.652</td>\n",
       "      <td>1.265</td>\n",
       "      <td>-4.682</td>\n",
       "      <td>0</td>\n",
       "      <td>0</td>\n",
       "      <td>-1.578</td>\n",
       "      <td>1</td>\n",
       "    </tr>\n",
       "  </tbody>\n",
       "</table>\n",
       "</div>"
      ],
      "text/plain": [
       "     age  anaemia  creatinine_phosphokinase  diabetes  ejection_fraction  \\\n",
       "0  1.193        0                     0.000         0             -1.531   \n",
       "1 -0.491        0                     7.515         0             -0.007   \n",
       "2  0.351        0                    -0.450         0             -1.531   \n",
       "3 -0.912        1                    -0.486         0             -1.531   \n",
       "4  0.351        1                    -0.435         1             -1.531   \n",
       "\n",
       "   high_blood_pressure  platelets  serum_creatinine  serum_sodium  sex  \\\n",
       "0                    1      0.017             0.490        -1.504    1   \n",
       "1                    0      0.000            -0.285        -0.142    1   \n",
       "2                    0     -1.038            -0.091        -1.731    1   \n",
       "3                    0     -0.546             0.490         0.085    1   \n",
       "4                    0      0.652             1.265        -4.682    0   \n",
       "\n",
       "   smoking   time  DEATH_EVENT  \n",
       "0        0 -1.630            1  \n",
       "1        0 -1.604            1  \n",
       "2        1 -1.591            1  \n",
       "3        0 -1.591            1  \n",
       "4        0 -1.578            1  "
      ]
     },
     "execution_count": 58,
     "metadata": {},
     "output_type": "execute_result"
    }
   ],
   "source": [
    "df.head()"
   ]
  },
  {
   "cell_type": "code",
   "execution_count": 59,
   "id": "9c8612e2",
   "metadata": {},
   "outputs": [],
   "source": [
    "from sklearn.linear_model import LogisticRegression"
   ]
  },
  {
   "cell_type": "code",
   "execution_count": 60,
   "id": "944bf811",
   "metadata": {},
   "outputs": [
    {
     "data": {
      "text/plain": [
       "LogisticRegression()"
      ]
     },
     "execution_count": 60,
     "metadata": {},
     "output_type": "execute_result"
    }
   ],
   "source": [
    "log=LogisticRegression()\n",
    "log.fit(X_train,Y_train)"
   ]
  },
  {
   "cell_type": "code",
   "execution_count": 61,
   "id": "b67d831a",
   "metadata": {},
   "outputs": [],
   "source": [
    "y_pred1=log.predict(X_test)"
   ]
  },
  {
   "cell_type": "code",
   "execution_count": 62,
   "id": "4cd545e8",
   "metadata": {},
   "outputs": [],
   "source": [
    "from sklearn.metrics import accuracy_score"
   ]
  },
  {
   "cell_type": "code",
   "execution_count": 63,
   "id": "b61dffcd",
   "metadata": {},
   "outputs": [
    {
     "data": {
      "text/plain": [
       "0.8"
      ]
     },
     "execution_count": 63,
     "metadata": {},
     "output_type": "execute_result"
    }
   ],
   "source": [
    "accuracy_score(Y_test,y_pred1)"
   ]
  },
  {
   "cell_type": "markdown",
   "id": "d1a86d4d",
   "metadata": {},
   "source": [
    "# SVC"
   ]
  },
  {
   "cell_type": "code",
   "execution_count": 64,
   "id": "b8e4513e",
   "metadata": {},
   "outputs": [],
   "source": [
    "from sklearn import svm"
   ]
  },
  {
   "cell_type": "code",
   "execution_count": 65,
   "id": "75a69628",
   "metadata": {},
   "outputs": [],
   "source": [
    "svm=svm.SVC()"
   ]
  },
  {
   "cell_type": "code",
   "execution_count": 66,
   "id": "a26f35a2",
   "metadata": {},
   "outputs": [
    {
     "data": {
      "text/plain": [
       "SVC()"
      ]
     },
     "execution_count": 66,
     "metadata": {},
     "output_type": "execute_result"
    }
   ],
   "source": [
    "svm.fit(X_train,Y_train)"
   ]
  },
  {
   "cell_type": "code",
   "execution_count": 67,
   "id": "3305a5ae",
   "metadata": {},
   "outputs": [],
   "source": [
    "y_pred2=svm.predict(X_test)"
   ]
  },
  {
   "cell_type": "code",
   "execution_count": 68,
   "id": "cfb665e4",
   "metadata": {},
   "outputs": [
    {
     "data": {
      "text/plain": [
       "0.7833333333333333"
      ]
     },
     "execution_count": 68,
     "metadata": {},
     "output_type": "execute_result"
    }
   ],
   "source": [
    "accuracy_score(Y_test,y_pred2)"
   ]
  },
  {
   "cell_type": "markdown",
   "id": "6d477e27",
   "metadata": {},
   "source": [
    "# KNEIGHBOURS CLASSIFIERS"
   ]
  },
  {
   "cell_type": "code",
   "execution_count": 79,
   "id": "a005e5fe",
   "metadata": {},
   "outputs": [],
   "source": [
    "from sklearn.neighbors import KNeighborsClassifier\n",
    "from warnings import simplefilter\n",
    "# ignore all future warnings\n",
    "simplefilter(action='ignore', category=FutureWarning)"
   ]
  },
  {
   "cell_type": "code",
   "execution_count": 80,
   "id": "8021a357",
   "metadata": {},
   "outputs": [
    {
     "data": {
      "text/plain": [
       "KNeighborsClassifier()"
      ]
     },
     "execution_count": 80,
     "metadata": {},
     "output_type": "execute_result"
    }
   ],
   "source": [
    "knn=KNeighborsClassifier()\n",
    "knn.fit(X_train,Y_train)"
   ]
  },
  {
   "cell_type": "code",
   "execution_count": 81,
   "id": "995aaf03",
   "metadata": {},
   "outputs": [],
   "source": [
    "y_pred3=knn.predict(X_test)"
   ]
  },
  {
   "cell_type": "code",
   "execution_count": 82,
   "id": "2207d0e5",
   "metadata": {},
   "outputs": [
    {
     "data": {
      "text/plain": [
       "0.7166666666666667"
      ]
     },
     "execution_count": 82,
     "metadata": {},
     "output_type": "execute_result"
    }
   ],
   "source": [
    "accuracy_score(Y_test,y_pred3)"
   ]
  },
  {
   "cell_type": "code",
   "execution_count": 90,
   "id": "453ce8cb",
   "metadata": {},
   "outputs": [],
   "source": [
    "#for better accuaracy \n",
    "#decalaring a list called score\n",
    "score=[]\n",
    "for k in range(1,239):\n",
    "    knn=KNeighborsClassifier(n_neighbors=k)\n",
    "    knn.fit(X_train,Y_train)\n",
    "    y_pred=knn.predict(X_test)\n",
    "    score.append(accuracy_score(Y_test,y_pred))\n",
    "    "
   ]
  },
  {
   "cell_type": "code",
   "execution_count": 91,
   "id": "76d92a70",
   "metadata": {},
   "outputs": [
    {
     "data": {
      "text/plain": [
       "[0.6833333333333333,\n",
       " 0.6666666666666666,\n",
       " 0.75,\n",
       " 0.6833333333333333,\n",
       " 0.7166666666666667,\n",
       " 0.6833333333333333,\n",
       " 0.6833333333333333,\n",
       " 0.6833333333333333,\n",
       " 0.6833333333333333,\n",
       " 0.6666666666666666,\n",
       " 0.7,\n",
       " 0.6833333333333333,\n",
       " 0.7,\n",
       " 0.6833333333333333,\n",
       " 0.6833333333333333,\n",
       " 0.6833333333333333,\n",
       " 0.7,\n",
       " 0.6666666666666666,\n",
       " 0.7,\n",
       " 0.6833333333333333,\n",
       " 0.7,\n",
       " 0.6666666666666666,\n",
       " 0.6833333333333333,\n",
       " 0.6833333333333333,\n",
       " 0.6833333333333333,\n",
       " 0.6833333333333333,\n",
       " 0.6833333333333333,\n",
       " 0.6666666666666666,\n",
       " 0.6833333333333333,\n",
       " 0.6666666666666666,\n",
       " 0.6833333333333333,\n",
       " 0.6833333333333333,\n",
       " 0.6833333333333333,\n",
       " 0.6666666666666666,\n",
       " 0.6666666666666666,\n",
       " 0.65,\n",
       " 0.6666666666666666,\n",
       " 0.6333333333333333,\n",
       " 0.65,\n",
       " 0.65,\n",
       " 0.65,\n",
       " 0.6333333333333333,\n",
       " 0.65,\n",
       " 0.6333333333333333,\n",
       " 0.6333333333333333,\n",
       " 0.6166666666666667,\n",
       " 0.6333333333333333,\n",
       " 0.6333333333333333,\n",
       " 0.6333333333333333,\n",
       " 0.6166666666666667,\n",
       " 0.6333333333333333,\n",
       " 0.6166666666666667,\n",
       " 0.6166666666666667,\n",
       " 0.6166666666666667,\n",
       " 0.6166666666666667,\n",
       " 0.6166666666666667,\n",
       " 0.6166666666666667,\n",
       " 0.6166666666666667,\n",
       " 0.6166666666666667,\n",
       " 0.6166666666666667,\n",
       " 0.6166666666666667,\n",
       " 0.6166666666666667,\n",
       " 0.6333333333333333,\n",
       " 0.6333333333333333,\n",
       " 0.6333333333333333,\n",
       " 0.6166666666666667,\n",
       " 0.6333333333333333,\n",
       " 0.6166666666666667,\n",
       " 0.6166666666666667,\n",
       " 0.6166666666666667,\n",
       " 0.6166666666666667,\n",
       " 0.6166666666666667,\n",
       " 0.6166666666666667,\n",
       " 0.6166666666666667,\n",
       " 0.6166666666666667,\n",
       " 0.6166666666666667,\n",
       " 0.6166666666666667,\n",
       " 0.6,\n",
       " 0.6,\n",
       " 0.6,\n",
       " 0.6,\n",
       " 0.6,\n",
       " 0.6,\n",
       " 0.6,\n",
       " 0.6,\n",
       " 0.6,\n",
       " 0.6,\n",
       " 0.6,\n",
       " 0.6,\n",
       " 0.6,\n",
       " 0.6,\n",
       " 0.6,\n",
       " 0.6,\n",
       " 0.6,\n",
       " 0.6,\n",
       " 0.6,\n",
       " 0.6,\n",
       " 0.6,\n",
       " 0.6,\n",
       " 0.6,\n",
       " 0.6,\n",
       " 0.6,\n",
       " 0.6,\n",
       " 0.6,\n",
       " 0.6,\n",
       " 0.6,\n",
       " 0.6,\n",
       " 0.6,\n",
       " 0.6,\n",
       " 0.6,\n",
       " 0.6,\n",
       " 0.6,\n",
       " 0.6,\n",
       " 0.5833333333333334,\n",
       " 0.5833333333333334,\n",
       " 0.5833333333333334,\n",
       " 0.5833333333333334,\n",
       " 0.5833333333333334,\n",
       " 0.5833333333333334,\n",
       " 0.5833333333333334,\n",
       " 0.5833333333333334,\n",
       " 0.5833333333333334,\n",
       " 0.5833333333333334,\n",
       " 0.5833333333333334,\n",
       " 0.5833333333333334,\n",
       " 0.5833333333333334,\n",
       " 0.5833333333333334,\n",
       " 0.5833333333333334,\n",
       " 0.5833333333333334,\n",
       " 0.5833333333333334,\n",
       " 0.5833333333333334,\n",
       " 0.5833333333333334,\n",
       " 0.5833333333333334,\n",
       " 0.5833333333333334,\n",
       " 0.5833333333333334,\n",
       " 0.5833333333333334,\n",
       " 0.5833333333333334,\n",
       " 0.5833333333333334,\n",
       " 0.5833333333333334,\n",
       " 0.5833333333333334,\n",
       " 0.5833333333333334,\n",
       " 0.5833333333333334,\n",
       " 0.5833333333333334,\n",
       " 0.5833333333333334,\n",
       " 0.5833333333333334,\n",
       " 0.5833333333333334,\n",
       " 0.5833333333333334,\n",
       " 0.5833333333333334,\n",
       " 0.5833333333333334,\n",
       " 0.5833333333333334,\n",
       " 0.5833333333333334,\n",
       " 0.5833333333333334,\n",
       " 0.5833333333333334,\n",
       " 0.5833333333333334,\n",
       " 0.5833333333333334,\n",
       " 0.5833333333333334,\n",
       " 0.5833333333333334,\n",
       " 0.5833333333333334,\n",
       " 0.5833333333333334,\n",
       " 0.5833333333333334,\n",
       " 0.5833333333333334,\n",
       " 0.5833333333333334,\n",
       " 0.5833333333333334,\n",
       " 0.5833333333333334,\n",
       " 0.5833333333333334,\n",
       " 0.5833333333333334,\n",
       " 0.5833333333333334,\n",
       " 0.5833333333333334,\n",
       " 0.5833333333333334,\n",
       " 0.5833333333333334,\n",
       " 0.5833333333333334,\n",
       " 0.5833333333333334,\n",
       " 0.5833333333333334,\n",
       " 0.5833333333333334,\n",
       " 0.5833333333333334,\n",
       " 0.5833333333333334,\n",
       " 0.5833333333333334,\n",
       " 0.5833333333333334,\n",
       " 0.5833333333333334,\n",
       " 0.5833333333333334,\n",
       " 0.5833333333333334,\n",
       " 0.5833333333333334,\n",
       " 0.5833333333333334,\n",
       " 0.5833333333333334,\n",
       " 0.5833333333333334,\n",
       " 0.5833333333333334,\n",
       " 0.5833333333333334,\n",
       " 0.5833333333333334,\n",
       " 0.5833333333333334,\n",
       " 0.5833333333333334,\n",
       " 0.5833333333333334,\n",
       " 0.5833333333333334,\n",
       " 0.5833333333333334,\n",
       " 0.5833333333333334,\n",
       " 0.5833333333333334,\n",
       " 0.5833333333333334,\n",
       " 0.5833333333333334,\n",
       " 0.5833333333333334,\n",
       " 0.5833333333333334,\n",
       " 0.5833333333333334,\n",
       " 0.5833333333333334,\n",
       " 0.5833333333333334,\n",
       " 0.5833333333333334,\n",
       " 0.5833333333333334,\n",
       " 0.5833333333333334,\n",
       " 0.5833333333333334,\n",
       " 0.5833333333333334,\n",
       " 0.5833333333333334,\n",
       " 0.5833333333333334,\n",
       " 0.5833333333333334,\n",
       " 0.5833333333333334,\n",
       " 0.5833333333333334,\n",
       " 0.5833333333333334,\n",
       " 0.5833333333333334,\n",
       " 0.5833333333333334,\n",
       " 0.5833333333333334,\n",
       " 0.5833333333333334,\n",
       " 0.5833333333333334,\n",
       " 0.5833333333333334,\n",
       " 0.5833333333333334,\n",
       " 0.5833333333333334,\n",
       " 0.5833333333333334,\n",
       " 0.5833333333333334,\n",
       " 0.5833333333333334,\n",
       " 0.5833333333333334,\n",
       " 0.5833333333333334,\n",
       " 0.5833333333333334,\n",
       " 0.5833333333333334,\n",
       " 0.5833333333333334,\n",
       " 0.5833333333333334,\n",
       " 0.5833333333333334,\n",
       " 0.5833333333333334,\n",
       " 0.5833333333333334,\n",
       " 0.5833333333333334,\n",
       " 0.5833333333333334,\n",
       " 0.5833333333333334,\n",
       " 0.5833333333333334,\n",
       " 0.5833333333333334]"
      ]
     },
     "execution_count": 91,
     "metadata": {},
     "output_type": "execute_result"
    }
   ],
   "source": [
    "#accuracy score for different values of k as now we can select for which k value the kneighbors provides the best accuracy \n",
    "# we can change the values of k to provide the number of required number of output\n",
    "score"
   ]
  },
  {
   "cell_type": "code",
   "execution_count": 95,
   "id": "24b7652f",
   "metadata": {},
   "outputs": [
    {
     "data": {
      "text/plain": [
       "0.75"
      ]
     },
     "execution_count": 95,
     "metadata": {},
     "output_type": "execute_result"
    }
   ],
   "source": [
    "#as we see above for k = 3 we have the highest accuracy(75%) so we will put n_neighbor=3)\n",
    "knn=KNeighborsClassifier(n_neighbors=3)\n",
    "knn.fit(X_train,Y_train)\n",
    "y_pred=knn.predict(X_test)\n",
    "accuracy_score(Y_test,y_pred)\n",
    "\n",
    "    "
   ]
  },
  {
   "cell_type": "markdown",
   "id": "345a79e3",
   "metadata": {},
   "source": [
    "# NON LINEAR ML ALGORITHMS"
   ]
  },
  {
   "cell_type": "code",
   "execution_count": 96,
   "id": "43b5bc78",
   "metadata": {},
   "outputs": [],
   "source": [
    "#for non linear ml algorithms pre-processing is not required\n",
    "#hence we are not required to perform data encoding and feature scaling so we can upload dataset once again\n",
    "data=pd.read_csv(\"heart_failure_clinical_records_dataset.csv\")\n"
   ]
  },
  {
   "cell_type": "code",
   "execution_count": 97,
   "id": "e78e4601",
   "metadata": {},
   "outputs": [
    {
     "data": {
      "text/html": [
       "<div>\n",
       "<style scoped>\n",
       "    .dataframe tbody tr th:only-of-type {\n",
       "        vertical-align: middle;\n",
       "    }\n",
       "\n",
       "    .dataframe tbody tr th {\n",
       "        vertical-align: top;\n",
       "    }\n",
       "\n",
       "    .dataframe thead th {\n",
       "        text-align: right;\n",
       "    }\n",
       "</style>\n",
       "<table border=\"1\" class=\"dataframe\">\n",
       "  <thead>\n",
       "    <tr style=\"text-align: right;\">\n",
       "      <th></th>\n",
       "      <th>age</th>\n",
       "      <th>anaemia</th>\n",
       "      <th>creatinine_phosphokinase</th>\n",
       "      <th>diabetes</th>\n",
       "      <th>ejection_fraction</th>\n",
       "      <th>high_blood_pressure</th>\n",
       "      <th>platelets</th>\n",
       "      <th>serum_creatinine</th>\n",
       "      <th>serum_sodium</th>\n",
       "      <th>sex</th>\n",
       "      <th>smoking</th>\n",
       "      <th>time</th>\n",
       "      <th>DEATH_EVENT</th>\n",
       "    </tr>\n",
       "  </thead>\n",
       "  <tbody>\n",
       "    <tr>\n",
       "      <th>0</th>\n",
       "      <td>75.000</td>\n",
       "      <td>0</td>\n",
       "      <td>582</td>\n",
       "      <td>0</td>\n",
       "      <td>20</td>\n",
       "      <td>1</td>\n",
       "      <td>265000.000</td>\n",
       "      <td>1.900</td>\n",
       "      <td>130</td>\n",
       "      <td>1</td>\n",
       "      <td>0</td>\n",
       "      <td>4</td>\n",
       "      <td>1</td>\n",
       "    </tr>\n",
       "    <tr>\n",
       "      <th>1</th>\n",
       "      <td>55.000</td>\n",
       "      <td>0</td>\n",
       "      <td>7861</td>\n",
       "      <td>0</td>\n",
       "      <td>38</td>\n",
       "      <td>0</td>\n",
       "      <td>263358.030</td>\n",
       "      <td>1.100</td>\n",
       "      <td>136</td>\n",
       "      <td>1</td>\n",
       "      <td>0</td>\n",
       "      <td>6</td>\n",
       "      <td>1</td>\n",
       "    </tr>\n",
       "    <tr>\n",
       "      <th>2</th>\n",
       "      <td>65.000</td>\n",
       "      <td>0</td>\n",
       "      <td>146</td>\n",
       "      <td>0</td>\n",
       "      <td>20</td>\n",
       "      <td>0</td>\n",
       "      <td>162000.000</td>\n",
       "      <td>1.300</td>\n",
       "      <td>129</td>\n",
       "      <td>1</td>\n",
       "      <td>1</td>\n",
       "      <td>7</td>\n",
       "      <td>1</td>\n",
       "    </tr>\n",
       "    <tr>\n",
       "      <th>3</th>\n",
       "      <td>50.000</td>\n",
       "      <td>1</td>\n",
       "      <td>111</td>\n",
       "      <td>0</td>\n",
       "      <td>20</td>\n",
       "      <td>0</td>\n",
       "      <td>210000.000</td>\n",
       "      <td>1.900</td>\n",
       "      <td>137</td>\n",
       "      <td>1</td>\n",
       "      <td>0</td>\n",
       "      <td>7</td>\n",
       "      <td>1</td>\n",
       "    </tr>\n",
       "    <tr>\n",
       "      <th>4</th>\n",
       "      <td>65.000</td>\n",
       "      <td>1</td>\n",
       "      <td>160</td>\n",
       "      <td>1</td>\n",
       "      <td>20</td>\n",
       "      <td>0</td>\n",
       "      <td>327000.000</td>\n",
       "      <td>2.700</td>\n",
       "      <td>116</td>\n",
       "      <td>0</td>\n",
       "      <td>0</td>\n",
       "      <td>8</td>\n",
       "      <td>1</td>\n",
       "    </tr>\n",
       "  </tbody>\n",
       "</table>\n",
       "</div>"
      ],
      "text/plain": [
       "     age  anaemia  creatinine_phosphokinase  diabetes  ejection_fraction  \\\n",
       "0 75.000        0                       582         0                 20   \n",
       "1 55.000        0                      7861         0                 38   \n",
       "2 65.000        0                       146         0                 20   \n",
       "3 50.000        1                       111         0                 20   \n",
       "4 65.000        1                       160         1                 20   \n",
       "\n",
       "   high_blood_pressure  platelets  serum_creatinine  serum_sodium  sex  \\\n",
       "0                    1 265000.000             1.900           130    1   \n",
       "1                    0 263358.030             1.100           136    1   \n",
       "2                    0 162000.000             1.300           129    1   \n",
       "3                    0 210000.000             1.900           137    1   \n",
       "4                    0 327000.000             2.700           116    0   \n",
       "\n",
       "   smoking  time  DEATH_EVENT  \n",
       "0        0     4            1  \n",
       "1        0     6            1  \n",
       "2        1     7            1  \n",
       "3        0     7            1  \n",
       "4        0     8            1  "
      ]
     },
     "execution_count": 97,
     "metadata": {},
     "output_type": "execute_result"
    }
   ],
   "source": [
    "data.head()"
   ]
  },
  {
   "cell_type": "code",
   "execution_count": 98,
   "id": "06c059f8",
   "metadata": {},
   "outputs": [],
   "source": [
    "#remove duplicates\n",
    "data=data.drop_duplicates()"
   ]
  },
  {
   "cell_type": "code",
   "execution_count": 100,
   "id": "bfb3c96f",
   "metadata": {},
   "outputs": [
    {
     "data": {
      "text/plain": [
       "(299, 13)"
      ]
     },
     "execution_count": 100,
     "metadata": {},
     "output_type": "execute_result"
    }
   ],
   "source": [
    "data.shape"
   ]
  },
  {
   "cell_type": "code",
   "execution_count": 102,
   "id": "f7ef307d",
   "metadata": {},
   "outputs": [],
   "source": [
    "#separating dependent and independent variables\n",
    "X=data.drop('DEATH_EVENT',axis=1)\n",
    "Y=data['DEATH_EVENT']"
   ]
  },
  {
   "cell_type": "code",
   "execution_count": 103,
   "id": "024bb470",
   "metadata": {},
   "outputs": [],
   "source": [
    "X_train,X_test,Y_train,Y_test=train_test_split(X,Y,test_size=0.2,random_state=42)"
   ]
  },
  {
   "cell_type": "markdown",
   "id": "70199fc8",
   "metadata": {},
   "source": [
    "# Decision Tree Classifier"
   ]
  },
  {
   "cell_type": "code",
   "execution_count": 104,
   "id": "871dc7bf",
   "metadata": {},
   "outputs": [],
   "source": [
    "from sklearn.tree import DecisionTreeClassifier"
   ]
  },
  {
   "cell_type": "code",
   "execution_count": 105,
   "id": "f350294c",
   "metadata": {},
   "outputs": [],
   "source": [
    "dt=DecisionTreeClassifier()"
   ]
  },
  {
   "cell_type": "code",
   "execution_count": 106,
   "id": "74155dc2",
   "metadata": {},
   "outputs": [
    {
     "data": {
      "text/plain": [
       "DecisionTreeClassifier()"
      ]
     },
     "execution_count": 106,
     "metadata": {},
     "output_type": "execute_result"
    }
   ],
   "source": [
    "dt.fit(X_train,Y_train)"
   ]
  },
  {
   "cell_type": "code",
   "execution_count": 107,
   "id": "166b1a9d",
   "metadata": {},
   "outputs": [],
   "source": [
    "y_pred4=dt.predict(X_test)"
   ]
  },
  {
   "cell_type": "code",
   "execution_count": 108,
   "id": "3d1a9750",
   "metadata": {},
   "outputs": [
    {
     "data": {
      "text/plain": [
       "0.65"
      ]
     },
     "execution_count": 108,
     "metadata": {},
     "output_type": "execute_result"
    }
   ],
   "source": [
    "accuracy_score(Y_test,y_pred4)"
   ]
  },
  {
   "cell_type": "markdown",
   "id": "0682480c",
   "metadata": {},
   "source": [
    "# Random Forest Classifier\n"
   ]
  },
  {
   "cell_type": "code",
   "execution_count": 109,
   "id": "7c75bc3a",
   "metadata": {},
   "outputs": [],
   "source": [
    "from sklearn.ensemble import RandomForestClassifier"
   ]
  },
  {
   "cell_type": "code",
   "execution_count": 110,
   "id": "09d91313",
   "metadata": {},
   "outputs": [],
   "source": [
    "rf=RandomForestClassifier()"
   ]
  },
  {
   "cell_type": "code",
   "execution_count": 111,
   "id": "6513dbf0",
   "metadata": {},
   "outputs": [
    {
     "data": {
      "text/plain": [
       "RandomForestClassifier()"
      ]
     },
     "execution_count": 111,
     "metadata": {},
     "output_type": "execute_result"
    }
   ],
   "source": [
    "rf.fit(X_train,Y_train)"
   ]
  },
  {
   "cell_type": "code",
   "execution_count": 112,
   "id": "f6cdfcc6",
   "metadata": {},
   "outputs": [],
   "source": [
    "y_pred5=rf.predict(X_test)"
   ]
  },
  {
   "cell_type": "code",
   "execution_count": 113,
   "id": "c83d5e5e",
   "metadata": {},
   "outputs": [
    {
     "data": {
      "text/plain": [
       "0.7166666666666667"
      ]
     },
     "execution_count": 113,
     "metadata": {},
     "output_type": "execute_result"
    }
   ],
   "source": [
    "accuracy_score(Y_test,y_pred5)"
   ]
  },
  {
   "cell_type": "markdown",
   "id": "79671ee6",
   "metadata": {},
   "source": [
    "# Gradient Boosting Classifier"
   ]
  },
  {
   "cell_type": "code",
   "execution_count": 114,
   "id": "d6d77b4f",
   "metadata": {},
   "outputs": [],
   "source": [
    "from sklearn.ensemble import GradientBoostingClassifier"
   ]
  },
  {
   "cell_type": "code",
   "execution_count": 115,
   "id": "6586b619",
   "metadata": {},
   "outputs": [],
   "source": [
    "gbc=GradientBoostingClassifier()"
   ]
  },
  {
   "cell_type": "code",
   "execution_count": 116,
   "id": "40a34c7a",
   "metadata": {},
   "outputs": [
    {
     "data": {
      "text/plain": [
       "GradientBoostingClassifier()"
      ]
     },
     "execution_count": 116,
     "metadata": {},
     "output_type": "execute_result"
    }
   ],
   "source": [
    "gbc.fit(X_train,Y_train)"
   ]
  },
  {
   "cell_type": "code",
   "execution_count": 117,
   "id": "e890e146",
   "metadata": {},
   "outputs": [],
   "source": [
    "y_pred6=gbc.predict(X_test)"
   ]
  },
  {
   "cell_type": "code",
   "execution_count": 118,
   "id": "bd23adc8",
   "metadata": {},
   "outputs": [
    {
     "data": {
      "text/plain": [
       "0.7333333333333333"
      ]
     },
     "execution_count": 118,
     "metadata": {},
     "output_type": "execute_result"
    }
   ],
   "source": [
    "accuracy_score(Y_test,y_pred6)"
   ]
  },
  {
   "cell_type": "code",
   "execution_count": 121,
   "id": "166230ea",
   "metadata": {},
   "outputs": [],
   "source": [
    "#to compare accuracy score from different models we will use a barplot\n",
    "#declaring a varible and creating a panda dataframe using python dictionary\n",
    "final_data=pd.DataFrame({'Models':['LR','SVM','KNN','DT','RF','GB'],\n",
    "            'Accuracy':[accuracy_score(Y_test,y_pred1),\n",
    "                       accuracy_score(Y_test,y_pred2),\n",
    "                       accuracy_score(Y_test,y_pred3),\n",
    "                       accuracy_score(Y_test,y_pred4),\n",
    "                       accuracy_score(Y_test,y_pred5),\n",
    "                       accuracy_score(Y_test,y_pred6)]})"
   ]
  },
  {
   "cell_type": "code",
   "execution_count": 122,
   "id": "4d383677",
   "metadata": {},
   "outputs": [
    {
     "data": {
      "text/html": [
       "<div>\n",
       "<style scoped>\n",
       "    .dataframe tbody tr th:only-of-type {\n",
       "        vertical-align: middle;\n",
       "    }\n",
       "\n",
       "    .dataframe tbody tr th {\n",
       "        vertical-align: top;\n",
       "    }\n",
       "\n",
       "    .dataframe thead th {\n",
       "        text-align: right;\n",
       "    }\n",
       "</style>\n",
       "<table border=\"1\" class=\"dataframe\">\n",
       "  <thead>\n",
       "    <tr style=\"text-align: right;\">\n",
       "      <th></th>\n",
       "      <th>Models</th>\n",
       "      <th>Accuracy</th>\n",
       "    </tr>\n",
       "  </thead>\n",
       "  <tbody>\n",
       "    <tr>\n",
       "      <th>0</th>\n",
       "      <td>LR</td>\n",
       "      <td>0.800</td>\n",
       "    </tr>\n",
       "    <tr>\n",
       "      <th>1</th>\n",
       "      <td>SVM</td>\n",
       "      <td>0.783</td>\n",
       "    </tr>\n",
       "    <tr>\n",
       "      <th>2</th>\n",
       "      <td>KNN</td>\n",
       "      <td>0.717</td>\n",
       "    </tr>\n",
       "    <tr>\n",
       "      <th>3</th>\n",
       "      <td>DT</td>\n",
       "      <td>0.650</td>\n",
       "    </tr>\n",
       "    <tr>\n",
       "      <th>4</th>\n",
       "      <td>RF</td>\n",
       "      <td>0.717</td>\n",
       "    </tr>\n",
       "    <tr>\n",
       "      <th>5</th>\n",
       "      <td>GB</td>\n",
       "      <td>0.733</td>\n",
       "    </tr>\n",
       "  </tbody>\n",
       "</table>\n",
       "</div>"
      ],
      "text/plain": [
       "  Models  Accuracy\n",
       "0     LR     0.800\n",
       "1    SVM     0.783\n",
       "2    KNN     0.717\n",
       "3     DT     0.650\n",
       "4     RF     0.717\n",
       "5     GB     0.733"
      ]
     },
     "execution_count": 122,
     "metadata": {},
     "output_type": "execute_result"
    }
   ],
   "source": [
    "final_data"
   ]
  },
  {
   "cell_type": "code",
   "execution_count": 123,
   "id": "b5b3af3c",
   "metadata": {},
   "outputs": [
    {
     "data": {
      "text/plain": [
       "<AxesSubplot:xlabel='Models', ylabel='Accuracy'>"
      ]
     },
     "execution_count": 123,
     "metadata": {},
     "output_type": "execute_result"
    },
    {
     "data": {
      "image/png": "[encoded data removed]",
      "text/plain": [
       "<Figure size 640x480 with 1 Axes>"
      ]
     },
     "metadata": {},
     "output_type": "display_data"
    }
   ],
   "source": [
    "sns.barplot(final_data['Models'],final_data['Accuracy'])"
   ]
  },
  {
   "cell_type": "code",
   "execution_count": null,
   "id": "12a25775",
   "metadata": {},
   "outputs": [],
   "source": [
    "#logistic regression provides the best result for this dataset"
   ]
  },
  {
   "cell_type": "code",
   "execution_count": 124,
   "id": "cdfe8ddf",
   "metadata": {},
   "outputs": [],
   "source": [
    "#training logistic regression model on the entire dataset\n",
    "from sklearn.linear_model import LogisticRegression"
   ]
  },
  {
   "cell_type": "code",
   "execution_count": 125,
   "id": "2bdd7503",
   "metadata": {},
   "outputs": [
    {
     "data": {
      "text/plain": [
       "LogisticRegression()"
      ]
     },
     "execution_count": 125,
     "metadata": {},
     "output_type": "execute_result"
    }
   ],
   "source": [
    "log=LogisticRegression()\n",
    "log.fit(X,Y)"
   ]
  },
  {
   "cell_type": "markdown",
   "id": "216171a7",
   "metadata": {},
   "source": [
    "# Predicting on new data"
   ]
  },
  {
   "cell_type": "code",
   "execution_count": 127,
   "id": "b98309a4",
   "metadata": {},
   "outputs": [],
   "source": [
    "new_data=pd.DataFrame({\n",
    "    'age':72.0,\n",
    "    'anaemia':1,\n",
    "    'creatinine_phosphokinase':165,\n",
    "    'diabetes':1,\n",
    "    'ejection_fraction':23,\n",
    "    'high_blood_pressure':0,\n",
    "    'platelets':331000.00,\n",
    "    'serum_creatinine':3.5,\n",
    "    'serum_sodium':120,\n",
    "    'sex':1,\n",
    "    'smoking':1,\n",
    "    'time':6,\n",
    "},index=[0])"
   ]
  },
  {
   "cell_type": "code",
   "execution_count": 128,
   "id": "53a449ad",
   "metadata": {},
   "outputs": [
    {
     "data": {
      "text/html": [
       "<div>\n",
       "<style scoped>\n",
       "    .dataframe tbody tr th:only-of-type {\n",
       "        vertical-align: middle;\n",
       "    }\n",
       "\n",
       "    .dataframe tbody tr th {\n",
       "        vertical-align: top;\n",
       "    }\n",
       "\n",
       "    .dataframe thead th {\n",
       "        text-align: right;\n",
       "    }\n",
       "</style>\n",
       "<table border=\"1\" class=\"dataframe\">\n",
       "  <thead>\n",
       "    <tr style=\"text-align: right;\">\n",
       "      <th></th>\n",
       "      <th>age</th>\n",
       "      <th>anaemia</th>\n",
       "      <th>creatinine_phosphokinase</th>\n",
       "      <th>diabetes</th>\n",
       "      <th>ejection_fraction</th>\n",
       "      <th>high_blood_pressure</th>\n",
       "      <th>platelets</th>\n",
       "      <th>serum_creatinine</th>\n",
       "      <th>serum_sodium</th>\n",
       "      <th>sex</th>\n",
       "      <th>smoking</th>\n",
       "      <th>time</th>\n",
       "    </tr>\n",
       "  </thead>\n",
       "  <tbody>\n",
       "    <tr>\n",
       "      <th>0</th>\n",
       "      <td>72.000</td>\n",
       "      <td>1</td>\n",
       "      <td>165</td>\n",
       "      <td>1</td>\n",
       "      <td>23</td>\n",
       "      <td>0</td>\n",
       "      <td>331000.000</td>\n",
       "      <td>3.500</td>\n",
       "      <td>120</td>\n",
       "      <td>1</td>\n",
       "      <td>1</td>\n",
       "      <td>6</td>\n",
       "    </tr>\n",
       "  </tbody>\n",
       "</table>\n",
       "</div>"
      ],
      "text/plain": [
       "     age  anaemia  creatinine_phosphokinase  diabetes  ejection_fraction  \\\n",
       "0 72.000        1                       165         1                 23   \n",
       "\n",
       "   high_blood_pressure  platelets  serum_creatinine  serum_sodium  sex  \\\n",
       "0                    0 331000.000             3.500           120    1   \n",
       "\n",
       "   smoking  time  \n",
       "0        1     6  "
      ]
     },
     "execution_count": 128,
     "metadata": {},
     "output_type": "execute_result"
    }
   ],
   "source": [
    "new_data"
   ]
  },
  {
   "cell_type": "code",
   "execution_count": 129,
   "id": "35f6fb5a",
   "metadata": {},
   "outputs": [
    {
     "data": {
      "text/plain": [
       "array([1], dtype=int64)"
      ]
     },
     "execution_count": 129,
     "metadata": {},
     "output_type": "execute_result"
    }
   ],
   "source": [
    "log.predict(new_data)"
   ]
  },
  {
   "cell_type": "code",
   "execution_count": 131,
   "id": "63ccd155",
   "metadata": {},
   "outputs": [
    {
     "name": "stdout",
     "output_type": "stream",
     "text": [
      "DISEASE PRESENT\n"
     ]
    }
   ],
   "source": [
    "#array[1] signifies it is a patient with heart disease\n",
    "#storing the result  in a variable\n",
    "p=log.predict(new_data)\n",
    "if p[0]==0:\n",
    "    print(\"NO DISEASE\")\n",
    "else:\n",
    "    print(\"DISEASE PRESENT\")"
   ]
  },
  {
   "cell_type": "markdown",
   "id": "ef85ef64",
   "metadata": {},
   "source": [
    "# SAVE MODEL USING JOBLIB"
   ]
  },
  {
   "cell_type": "code",
   "execution_count": 132,
   "id": "821d71ef",
   "metadata": {},
   "outputs": [],
   "source": [
    "import joblib"
   ]
  },
  {
   "cell_type": "code",
   "execution_count": 133,
   "id": "2b09f0c0",
   "metadata": {},
   "outputs": [
    {
     "data": {
      "text/plain": [
       "['heartDisease_prediction_model']"
      ]
     },
     "execution_count": 133,
     "metadata": {},
     "output_type": "execute_result"
    }
   ],
   "source": [
    "joblib.dump(log,'heartDisease_prediction_model')"
   ]
  },
  {
   "cell_type": "code",
   "execution_count": 134,
   "id": "1ab12dd9",
   "metadata": {},
   "outputs": [],
   "source": [
    "model=joblib.load('heartDisease_prediction_model')"
   ]
  },
  {
   "cell_type": "code",
   "execution_count": 135,
   "id": "4e8a5c1f",
   "metadata": {},
   "outputs": [
    {
     "data": {
      "text/plain": [
       "array([1], dtype=int64)"
      ]
     },
     "execution_count": 135,
     "metadata": {},
     "output_type": "execute_result"
    }
   ],
   "source": [
    "#the model is saved and now we can use model name\n",
    "model.predict(new_data)"
   ]
  },
  {
   "cell_type": "markdown",
   "id": "93f21559",
   "metadata": {},
   "source": [
    "# IMPLEMENTING GUI"
   ]
  },
  {
   "cell_type": "code",
   "execution_count": 164,
   "id": "94fa52fc",
   "metadata": {},
   "outputs": [],
   "source": [
    "from tkinter import *\n",
    "import joblib"
   ]
  },
  {
   "cell_type": "code",
   "execution_count": 2,
   "id": "747f5461",
   "metadata": {},
   "outputs": [],
   "source": [
    "from tkinter import *\n",
    "import joblib\n",
    "from tkinter import *\n",
    "import joblib\n",
    "import numpy as np\n",
    "from sklearn import *\n",
    "def show_entry_fields():\n",
    "    p1=int(e1.get())\n",
    "    p2=int(e2.get())\n",
    "    p3=int(e3.get())\n",
    "    p4=int(e4.get())\n",
    "    p5=int(e5.get())\n",
    "    p6=int(e6.get())\n",
    "    p7=int(e7.get())\n",
    "    p8=int(e8.get())\n",
    "    p9=int(e9.get())\n",
    "    p10=float(e10.get())\n",
    "    p11=int(e11.get())\n",
    "    p12=int(e12.get())\n",
    "    model = joblib.load('heartDisease_prediction_model')\n",
    "    result=model.predict([[p1,p2,p3,p4,p5,p6,p7,p8,p8,p10,p11,p12]])\n",
    "    \n",
    "    if result == 0:\n",
    "        Label(master, text=\"No Heart Disease\").grid(row=31)\n",
    "    else:\n",
    "        Label(master, text=\"Possibility of Heart Disease\").grid(row=31)\n",
    "\n",
    "master = Tk()\n",
    "master.title(\"Heart Disease Prediction System\")\n",
    "\n",
    "\n",
    "label = Label(master, text = \"Heart Disease Prediction System\"\n",
    "                          , bg = \"red\", fg = \"white\"). \\\n",
    "                               grid(row=0,columnspan=2)\n",
    "\n",
    "\n",
    "Label(master, text=\"Enter Your Age\").grid(row=1)\n",
    "Label(master, text=\"enter anameia\").grid(row=2)\n",
    "Label(master, text=\"Enter Value of creatinine_phosphokinase\").grid(row=3)\n",
    "Label(master, text=\"Enter Value of diabetes\").grid(row=4)\n",
    "Label(master, text=\"Enter Value of ejection_fraction\").grid(row=5)\n",
    "Label(master, text=\"Enter Value of high_blood_pressure\").grid(row=6)\n",
    "Label(master, text=\"Enter Value of platelets\").grid(row=7)\n",
    "Label(master, text=\"Enter Value of serum_creatinine\").grid(row=8)\n",
    "Label(master, text=\"Enter Value of serum_sodium\").grid(row=9)\n",
    "Label(master, text=\"Enter Value of sex\").grid(row=10)\n",
    "Label(master, text=\"Enter Value of smoking\").grid(row=11)\n",
    "Label(master, text=\"Enter Value of time\").grid(row=12)\n",
    "\n",
    "e1 = Entry(master)\n",
    "e2 = Entry(master)\n",
    "e3 = Entry(master)\n",
    "e4 = Entry(master)\n",
    "e5 = Entry(master)\n",
    "e6 = Entry(master)\n",
    "e7 = Entry(master)\n",
    "e8 = Entry(master)\n",
    "e9 = Entry(master)\n",
    "e10 = Entry(master)\n",
    "e11 = Entry(master)\n",
    "e12 = Entry(master)\n",
    "\n",
    "\n",
    "e1.grid(row=1, column=1)\n",
    "e2.grid(row=2, column=1)\n",
    "e3.grid(row=3, column=1)\n",
    "e4.grid(row=4, column=1)\n",
    "e5.grid(row=5, column=1)\n",
    "e6.grid(row=6, column=1)\n",
    "e7.grid(row=7, column=1)\n",
    "e8.grid(row=8, column=1)\n",
    "e9.grid(row=9, column=1)\n",
    "e10.grid(row=10, column=1)\n",
    "e11.grid(row=11, column=1)\n",
    "e12.grid(row=12, column=1)\n",
    "\n",
    "\n",
    "Button(master, text='Predict', command=show_entry_fields).grid()\n",
    "\n",
    "mainloop()\n"
   ]
  },
  {
   "cell_type": "code",
   "execution_count": null,
   "id": "d70cebac",
   "metadata": {},
   "outputs": [],
   "source": []
  },
  {
   "cell_type": "code",
   "execution_count": null,
   "id": "1559931f",
   "metadata": {},
   "outputs": [],
   "source": []
  }
 ],
 "metadata": {
  "kernelspec": {
   "display_name": "Python 3 (ipykernel)",
   "language": "python",
   "name": "python3"
  },
  "language_info": {
   "codemirror_mode": {
    "name": "ipython",
    "version": 3
   },
   "file_extension": ".py",
   "mimetype": "text/x-python",
   "name": "python",
   "nbconvert_exporter": "python",
   "pygments_lexer": "ipython3",
   "version": "3.9.13"
  }
 },
 "nbformat": 4,
 "nbformat_minor": 5
}
